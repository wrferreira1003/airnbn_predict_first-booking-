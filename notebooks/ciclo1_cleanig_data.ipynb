{
 "cells": [
  {
   "cell_type": "markdown",
   "metadata": {},
   "source": [
    "# Business Problem"
   ]
  },
  {
   "cell_type": "markdown",
   "metadata": {},
   "source": [
    "#### Objetivo do problema\n",
    "\n",
    "-- Previsão do primeiro destino que um novo usuario irá escolher\n",
    "\n",
    "#### Porque?\n",
    "\n",
    "##### Qual tipo de modelo de negócio do AirBNB?\n",
    "\n",
    "-- MarketPlace (Conecta pessoas que oferecem acomodações, com pessoas que estão procurando acomodação).\n",
    "\n",
    "##### Oferta (Pessoas oferecendo acomodação)\n",
    "\n",
    "-- Tamanho do portfólio\n",
    "-- Diversidade / densidade de portfólio\n",
    "-- Preço médio\n",
    "\n",
    "##### Demanda (Pessoas procurando acomodação)\n",
    "\n",
    "-- Número de usuarios\n",
    "-- LTV (Lifitime Value)\n",
    "-- CAC (Client Acquisition Cost)\n",
    "-- Cross Revenue ( FEE * Numero Cliente) - CAC\n",
    "\n",
    "##### Proposta da Solução\n",
    "\n",
    "-- Modelo de predição do primeiro destino de um novo usuario\n",
    "\n",
    "##### Tipos de formatos para entrega do projeto\n",
    "\n",
    "-- Predições salva em tabela do banco de dados.\n",
    "-- API: Input: Usuario e suas caracteristicas / Output: Usuarios e suas caracteristicas com as predições do destino."
   ]
  },
  {
   "cell_type": "markdown",
   "metadata": {},
   "source": [
    "|Feature Name| Information|\n",
    "|----------------|:---------------:|\n",
    "|id:                         |ID do Usuario\n",
    "|date_account_created:       |Data da Criação da Conta\n",
    "|timestamp_first_active:     |Data do primeira acesso, note que pode ser anterior à data de criação da conta ou à data da primeira reserva porque um utilizador pode pesquisar antes de se inscrever\n",
    "|date_first_booking:         |data da primeira reserva\n",
    "|gender                      |Sexo\n",
    "|age                         |Idade \n",
    "|signup_method               |Metodo de inscrição\n",
    "|signup_flow:                |fluxo de inscrição: a página de onde um utilizador veio para se inscrever\n",
    "|language:                   |Preferencia linguistica internacional\n",
    "|affiliate_channel:          |canal afiliado: que tipo de marketing pago\n",
    "|affiliate_provider:         |fornecedor afiliado: onde o marketing é, por exemplo, google, craigslist, outro\n",
    "|first_affiliate_tracked:    |primeira afiliação rastreada: qual foi o primeiro marketing com que o utilizador interagiu antes da inscrição\n",
    "|signup_app                  |Aplicativo de inscrição\n",
    "|first_device_type           |Primeiro tipo de dispositivo\n",
    "|first_browser               |Primeiro nagevagor\n",
    "|country_destination:        |Destino do pai:Variavel alvo que deve prever"
   ]
  },
  {
   "cell_type": "markdown",
   "metadata": {},
   "source": [
    "# 0.0 - Imports"
   ]
  },
  {
   "cell_type": "code",
   "execution_count": 1,
   "metadata": {},
   "outputs": [
    {
     "data": {
      "text/html": [
       "<style>.container { width:90% !important; }</style>"
      ],
      "text/plain": [
       "<IPython.core.display.HTML object>"
      ]
     },
     "metadata": {},
     "output_type": "display_data"
    }
   ],
   "source": [
    "import pandas as pd\n",
    "import numpy as np\n",
    "import seaborn as sns\n",
    "import matplotlib.pyplot as plt\n",
    "import missingno as miss\n",
    "from scipy import stats\n",
    "\n",
    "import warnings\n",
    "warnings.filterwarnings('ignore')\n",
    "\n",
    "from IPython.core.display import display, HTML\n",
    "display(HTML(\"<style>.container { width:90% !important; }</style>\"))"
   ]
  },
  {
   "cell_type": "code",
   "execution_count": 2,
   "metadata": {},
   "outputs": [],
   "source": [
    "#Paths\n",
    "path_data = '/home/wellington/Documentos/Projetos/Projetos_ds_pa/airbnb_predict_booking_final/airnbn_predict_first-booking-/data/'\n",
    "path_model = '/home/wellington/Documentos/Projetos/Projetos_ds_pa/airbnb_predict_booking_final/airnbn_predict_first-booking-/models/'"
   ]
  },
  {
   "cell_type": "markdown",
   "metadata": {},
   "source": [
    "## Functions"
   ]
  },
  {
   "cell_type": "code",
   "execution_count": 3,
   "metadata": {},
   "outputs": [],
   "source": [
    "def drescriptive_statistical (df):\n",
    "\n",
    "    num_atributes = df.copy()\n",
    "    #Central Tendency - mean - median\n",
    "    ct1 = pd.DataFrame(num_atributes.apply(np.mean)).T\n",
    "    ct2 = pd.DataFrame(num_atributes.apply(np.median)).T\n",
    "\n",
    "    #Dispersion - STD, min, max, range, sken, Kurtosis\n",
    "    d1 = pd.DataFrame(num_atributes.apply(np.std)).T\n",
    "    d2 = pd.DataFrame(num_atributes.apply(min)).T\n",
    "    d3 = pd.DataFrame(num_atributes.apply(max)).T\n",
    "    d4 = pd.DataFrame(num_atributes.apply(lambda x: x.max() - x.min() )).T\n",
    "    d5 = pd.DataFrame(num_atributes.apply(lambda x: x.skew() )).T\n",
    "    d6 = pd.DataFrame(num_atributes.apply(lambda x: x.kurtosis() )).T\n",
    "\n",
    "    #Concatenate\n",
    "\n",
    "    m = pd.concat([d2, d3, d4, ct1, ct2, d1, d5, d6]).T.reset_index()\n",
    "    m.columns = ['attributes', 'min', 'max', 'range', 'mean', 'median', 'std', 'skew', 'kurtosis']\n",
    "    return m\n",
    "\n",
    "\n",
    "def jupyter_settings():\n",
    "    %matplotlib inline\n",
    "    plt.style.use( 'bmh' )\n",
    "    plt.rcParams['figure.figsize'] = [25, 12]\n",
    "    plt.rcParams['font.size'] = 24\n",
    "    #display( HTML( '<style>.container { width:100% !important; }</style>') )\n",
    "    pd.options.display.max_columns = None\n",
    "    pd.options.display.max_rows = None\n",
    "    pd.set_option( 'display.expand_frame_repr', False )\n",
    "    sns.set()\n",
    "    jupyter_settings()\n",
    "\n",
    "\n",
    "#Function Calculates cramer V\n",
    "def cramer_v(x, y):\n",
    "    cm = pd.crosstab(x, y).values\n",
    "    n = cm.sum()\n",
    "    r, k = cm.shape\n",
    "    \n",
    "    chi2 = stats.chi2_contingency( cm )[0]\n",
    "    chi2corr = max(0, chi2 - ( k - 1 ) * ( r - 1) / (n - 1))\n",
    "    kcorr = k - (k - 1) **2/(n - 1) \n",
    "    rcorr = r - (r - 1) **2/(n - 1)\n",
    "    \n",
    "    return np.sqrt( (chi2corr / n) / (min(kcorr -1, rcorr -1) ) )"
   ]
  },
  {
   "cell_type": "markdown",
   "metadata": {},
   "source": [
    "## Loading Data"
   ]
  },
  {
   "cell_type": "markdown",
   "metadata": {},
   "source": [
    "## Data Sessions"
   ]
  },
  {
   "cell_type": "code",
   "execution_count": 4,
   "metadata": {},
   "outputs": [],
   "source": [
    "session = pd.read_csv(path_data+'sessions.csv')"
   ]
  },
  {
   "cell_type": "code",
   "execution_count": 5,
   "metadata": {},
   "outputs": [
    {
     "data": {
      "text/html": [
       "<div>\n",
       "<style scoped>\n",
       "    .dataframe tbody tr th:only-of-type {\n",
       "        vertical-align: middle;\n",
       "    }\n",
       "\n",
       "    .dataframe tbody tr th {\n",
       "        vertical-align: top;\n",
       "    }\n",
       "\n",
       "    .dataframe thead th {\n",
       "        text-align: right;\n",
       "    }\n",
       "</style>\n",
       "<table border=\"1\" class=\"dataframe\">\n",
       "  <thead>\n",
       "    <tr style=\"text-align: right;\">\n",
       "      <th></th>\n",
       "      <th>0</th>\n",
       "    </tr>\n",
       "  </thead>\n",
       "  <tbody>\n",
       "    <tr>\n",
       "      <th>user_id</th>\n",
       "      <td>d1mm9tcy42</td>\n",
       "    </tr>\n",
       "    <tr>\n",
       "      <th>action</th>\n",
       "      <td>lookup</td>\n",
       "    </tr>\n",
       "    <tr>\n",
       "      <th>action_type</th>\n",
       "      <td>NaN</td>\n",
       "    </tr>\n",
       "    <tr>\n",
       "      <th>action_detail</th>\n",
       "      <td>NaN</td>\n",
       "    </tr>\n",
       "    <tr>\n",
       "      <th>device_type</th>\n",
       "      <td>Windows Desktop</td>\n",
       "    </tr>\n",
       "    <tr>\n",
       "      <th>secs_elapsed</th>\n",
       "      <td>319.0</td>\n",
       "    </tr>\n",
       "  </tbody>\n",
       "</table>\n",
       "</div>"
      ],
      "text/plain": [
       "                             0\n",
       "user_id             d1mm9tcy42\n",
       "action                  lookup\n",
       "action_type                NaN\n",
       "action_detail              NaN\n",
       "device_type    Windows Desktop\n",
       "secs_elapsed             319.0"
      ]
     },
     "execution_count": 5,
     "metadata": {},
     "output_type": "execute_result"
    }
   ],
   "source": [
    "session.head(1).T"
   ]
  },
  {
   "cell_type": "code",
   "execution_count": 6,
   "metadata": {},
   "outputs": [
    {
     "data": {
      "text/html": [
       "<div>\n",
       "<style scoped>\n",
       "    .dataframe tbody tr th:only-of-type {\n",
       "        vertical-align: middle;\n",
       "    }\n",
       "\n",
       "    .dataframe tbody tr th {\n",
       "        vertical-align: top;\n",
       "    }\n",
       "\n",
       "    .dataframe thead th {\n",
       "        text-align: right;\n",
       "    }\n",
       "</style>\n",
       "<table border=\"1\" class=\"dataframe\">\n",
       "  <thead>\n",
       "    <tr style=\"text-align: right;\">\n",
       "      <th></th>\n",
       "      <th>user_id</th>\n",
       "      <th>action</th>\n",
       "      <th>action_type</th>\n",
       "      <th>action_detail</th>\n",
       "      <th>device_type</th>\n",
       "      <th>secs_elapsed</th>\n",
       "    </tr>\n",
       "  </thead>\n",
       "  <tbody>\n",
       "    <tr>\n",
       "      <th>0</th>\n",
       "      <td>d1mm9tcy42</td>\n",
       "      <td>lookup</td>\n",
       "      <td>NaN</td>\n",
       "      <td>NaN</td>\n",
       "      <td>Windows Desktop</td>\n",
       "      <td>319.0</td>\n",
       "    </tr>\n",
       "    <tr>\n",
       "      <th>1</th>\n",
       "      <td>d1mm9tcy42</td>\n",
       "      <td>search_results</td>\n",
       "      <td>click</td>\n",
       "      <td>view_search_results</td>\n",
       "      <td>Windows Desktop</td>\n",
       "      <td>67753.0</td>\n",
       "    </tr>\n",
       "    <tr>\n",
       "      <th>2</th>\n",
       "      <td>d1mm9tcy42</td>\n",
       "      <td>lookup</td>\n",
       "      <td>NaN</td>\n",
       "      <td>NaN</td>\n",
       "      <td>Windows Desktop</td>\n",
       "      <td>301.0</td>\n",
       "    </tr>\n",
       "    <tr>\n",
       "      <th>3</th>\n",
       "      <td>d1mm9tcy42</td>\n",
       "      <td>search_results</td>\n",
       "      <td>click</td>\n",
       "      <td>view_search_results</td>\n",
       "      <td>Windows Desktop</td>\n",
       "      <td>22141.0</td>\n",
       "    </tr>\n",
       "    <tr>\n",
       "      <th>4</th>\n",
       "      <td>d1mm9tcy42</td>\n",
       "      <td>lookup</td>\n",
       "      <td>NaN</td>\n",
       "      <td>NaN</td>\n",
       "      <td>Windows Desktop</td>\n",
       "      <td>435.0</td>\n",
       "    </tr>\n",
       "  </tbody>\n",
       "</table>\n",
       "</div>"
      ],
      "text/plain": [
       "      user_id          action action_type        action_detail  \\\n",
       "0  d1mm9tcy42          lookup         NaN                  NaN   \n",
       "1  d1mm9tcy42  search_results       click  view_search_results   \n",
       "2  d1mm9tcy42          lookup         NaN                  NaN   \n",
       "3  d1mm9tcy42  search_results       click  view_search_results   \n",
       "4  d1mm9tcy42          lookup         NaN                  NaN   \n",
       "\n",
       "       device_type  secs_elapsed  \n",
       "0  Windows Desktop         319.0  \n",
       "1  Windows Desktop       67753.0  \n",
       "2  Windows Desktop         301.0  \n",
       "3  Windows Desktop       22141.0  \n",
       "4  Windows Desktop         435.0  "
      ]
     },
     "execution_count": 6,
     "metadata": {},
     "output_type": "execute_result"
    }
   ],
   "source": [
    "session.head()"
   ]
  },
  {
   "cell_type": "code",
   "execution_count": 7,
   "metadata": {},
   "outputs": [
    {
     "data": {
      "text/plain": [
       "mxqbh3ykxl    2722\n",
       "0hjoc5q8nf    2644\n",
       "mjbl6rrj52    2476\n",
       "l5lgm3w5pc    2424\n",
       "wg9413iaux    2362\n",
       "Name: user_id, dtype: int64"
      ]
     },
     "execution_count": 7,
     "metadata": {},
     "output_type": "execute_result"
    }
   ],
   "source": [
    "session.user_id.value_counts().head()\n",
    "#Ja podemos notar que temos repetição para o mesmo user id"
   ]
  },
  {
   "cell_type": "markdown",
   "metadata": {},
   "source": [
    "# 1.0 Data Description and Cleaning"
   ]
  },
  {
   "cell_type": "code",
   "execution_count": 8,
   "metadata": {},
   "outputs": [
    {
     "name": "stdout",
     "output_type": "stream",
     "text": [
      "Number of Rows: 10567737\n",
      "Number of Columns: 6\n"
     ]
    }
   ],
   "source": [
    "#Data Dimensions\n",
    "\n",
    "print('Number of Rows: {}'.format(session.shape[0]))\n",
    "print('Number of Columns: {}'.format(session.shape[1]))"
   ]
  },
  {
   "cell_type": "code",
   "execution_count": 9,
   "metadata": {},
   "outputs": [
    {
     "data": {
      "text/plain": [
       "user_id           object\n",
       "action            object\n",
       "action_type       object\n",
       "action_detail     object\n",
       "device_type       object\n",
       "secs_elapsed     float64\n",
       "dtype: object"
      ]
     },
     "execution_count": 9,
     "metadata": {},
     "output_type": "execute_result"
    }
   ],
   "source": [
    "# Data Types\n",
    "\n",
    "session.dtypes"
   ]
  },
  {
   "cell_type": "markdown",
   "metadata": {},
   "source": [
    "## Check NA Session"
   ]
  },
  {
   "cell_type": "code",
   "execution_count": 10,
   "metadata": {},
   "outputs": [
    {
     "data": {
      "image/png": "[encoded data removed]",
      "text/plain": [
       "<Figure size 1800x720 with 3 Axes>"
      ]
     },
     "metadata": {
      "needs_background": "light"
     },
     "output_type": "display_data"
    }
   ],
   "source": [
    "miss.bar(session)\n",
    "sns.despine()"
   ]
  },
  {
   "cell_type": "code",
   "execution_count": 11,
   "metadata": {},
   "outputs": [],
   "source": [
    "#Para os NAs estou assumindo a alteração pela moda de cada coluna exceto para a coluna secs_elapsed, nesta colo o valor 0\n",
    "\n",
    "session['action'].fillna(session['action'].mode()[0], inplace=True)\n",
    "session['action_type'].fillna(session['action_type'].mode()[0], inplace=True)\n",
    "session['action_detail'].fillna(session['action_detail'].mode()[0], inplace=True)\n",
    "session['device_type'].fillna(session['device_type'].mode()[0], inplace=True)\n",
    "session['secs_elapsed'].fillna(0, inplace=True)\n",
    "\n",
    "#Replace no espaço com _ no device_type\n",
    "session.device_type = session.device_type.str.replace(' ', '_')"
   ]
  },
  {
   "cell_type": "code",
   "execution_count": 12,
   "metadata": {},
   "outputs": [
    {
     "data": {
      "text/html": [
       "<div>\n",
       "<style scoped>\n",
       "    .dataframe tbody tr th:only-of-type {\n",
       "        vertical-align: middle;\n",
       "    }\n",
       "\n",
       "    .dataframe tbody tr th {\n",
       "        vertical-align: top;\n",
       "    }\n",
       "\n",
       "    .dataframe thead th {\n",
       "        text-align: right;\n",
       "    }\n",
       "</style>\n",
       "<table border=\"1\" class=\"dataframe\">\n",
       "  <thead>\n",
       "    <tr style=\"text-align: right;\">\n",
       "      <th></th>\n",
       "      <th>user_id</th>\n",
       "      <th>action</th>\n",
       "      <th>action_type</th>\n",
       "      <th>action_detail</th>\n",
       "      <th>device_type</th>\n",
       "      <th>secs_elapsed</th>\n",
       "    </tr>\n",
       "  </thead>\n",
       "  <tbody>\n",
       "    <tr>\n",
       "      <th>0</th>\n",
       "      <td>d1mm9tcy42</td>\n",
       "      <td>lookup</td>\n",
       "      <td>view</td>\n",
       "      <td>view_search_results</td>\n",
       "      <td>Windows_Desktop</td>\n",
       "      <td>319.0</td>\n",
       "    </tr>\n",
       "    <tr>\n",
       "      <th>1</th>\n",
       "      <td>d1mm9tcy42</td>\n",
       "      <td>search_results</td>\n",
       "      <td>click</td>\n",
       "      <td>view_search_results</td>\n",
       "      <td>Windows_Desktop</td>\n",
       "      <td>67753.0</td>\n",
       "    </tr>\n",
       "    <tr>\n",
       "      <th>2</th>\n",
       "      <td>d1mm9tcy42</td>\n",
       "      <td>lookup</td>\n",
       "      <td>view</td>\n",
       "      <td>view_search_results</td>\n",
       "      <td>Windows_Desktop</td>\n",
       "      <td>301.0</td>\n",
       "    </tr>\n",
       "    <tr>\n",
       "      <th>3</th>\n",
       "      <td>d1mm9tcy42</td>\n",
       "      <td>search_results</td>\n",
       "      <td>click</td>\n",
       "      <td>view_search_results</td>\n",
       "      <td>Windows_Desktop</td>\n",
       "      <td>22141.0</td>\n",
       "    </tr>\n",
       "    <tr>\n",
       "      <th>4</th>\n",
       "      <td>d1mm9tcy42</td>\n",
       "      <td>lookup</td>\n",
       "      <td>view</td>\n",
       "      <td>view_search_results</td>\n",
       "      <td>Windows_Desktop</td>\n",
       "      <td>435.0</td>\n",
       "    </tr>\n",
       "  </tbody>\n",
       "</table>\n",
       "</div>"
      ],
      "text/plain": [
       "      user_id          action action_type        action_detail  \\\n",
       "0  d1mm9tcy42          lookup        view  view_search_results   \n",
       "1  d1mm9tcy42  search_results       click  view_search_results   \n",
       "2  d1mm9tcy42          lookup        view  view_search_results   \n",
       "3  d1mm9tcy42  search_results       click  view_search_results   \n",
       "4  d1mm9tcy42          lookup        view  view_search_results   \n",
       "\n",
       "       device_type  secs_elapsed  \n",
       "0  Windows_Desktop         319.0  \n",
       "1  Windows_Desktop       67753.0  \n",
       "2  Windows_Desktop         301.0  \n",
       "3  Windows_Desktop       22141.0  \n",
       "4  Windows_Desktop         435.0  "
      ]
     },
     "execution_count": 12,
     "metadata": {},
     "output_type": "execute_result"
    }
   ],
   "source": [
    "session.head()"
   ]
  },
  {
   "cell_type": "code",
   "execution_count": 13,
   "metadata": {},
   "outputs": [],
   "source": [
    "#Removendo valor nulo do user_id\n",
    "\n",
    "session = session[pd.isnull(session.user_id) == False]"
   ]
  },
  {
   "cell_type": "code",
   "execution_count": 14,
   "metadata": {},
   "outputs": [
    {
     "data": {
      "text/plain": [
       "(10533241, 6)"
      ]
     },
     "execution_count": 14,
     "metadata": {},
     "output_type": "execute_result"
    }
   ],
   "source": [
    "session.shape"
   ]
  },
  {
   "cell_type": "code",
   "execution_count": 15,
   "metadata": {},
   "outputs": [],
   "source": [
    "#Adicionando espaço para conseguir mesclar em uma linha\n",
    "\n",
    "session['action'] = [' ' + i + ' ' for i in session['action']]\n",
    "session['action_type'] = [' ' + i + ' ' for i in session['action_type']]\n",
    "session['action_detail'] = [' ' + i + ' ' for i in session['action_detail']]"
   ]
  },
  {
   "cell_type": "code",
   "execution_count": 16,
   "metadata": {},
   "outputs": [
    {
     "data": {
      "text/plain": [
       "135483"
      ]
     },
     "execution_count": 16,
     "metadata": {},
     "output_type": "execute_result"
    }
   ],
   "source": [
    "user_id = list(set(session['user_id'].values))\n",
    "len(user_id)"
   ]
  },
  {
   "cell_type": "code",
   "execution_count": 17,
   "metadata": {},
   "outputs": [
    {
     "data": {
      "text/plain": [
       "secs_elapsed    135483\n",
       "dtype: int64"
      ]
     },
     "execution_count": 17,
     "metadata": {},
     "output_type": "execute_result"
    }
   ],
   "source": [
    "#Pegando valor medio de ucada usuario especifico\n",
    "\n",
    "sec_e = session.groupby('user_id', sort=False,)[['secs_elapsed']].mean()\n",
    "sec_e.count()"
   ]
  },
  {
   "cell_type": "code",
   "execution_count": 18,
   "metadata": {},
   "outputs": [],
   "source": [
    "#Gerando nova sessão para cada ID com apenas uma linha\n",
    "\n",
    "action = session.groupby('user_id', sort=False)[['action']].sum()\n",
    "action_type = session.groupby('user_id', sort=False)[['action_type']].sum()\n",
    "action_detail = session.groupby('user_id', sort=False)[['action_detail']].sum()"
   ]
  },
  {
   "cell_type": "code",
   "execution_count": 19,
   "metadata": {},
   "outputs": [
    {
     "data": {
      "text/html": [
       "<div>\n",
       "<style scoped>\n",
       "    .dataframe tbody tr th:only-of-type {\n",
       "        vertical-align: middle;\n",
       "    }\n",
       "\n",
       "    .dataframe tbody tr th {\n",
       "        vertical-align: top;\n",
       "    }\n",
       "\n",
       "    .dataframe thead th {\n",
       "        text-align: right;\n",
       "    }\n",
       "</style>\n",
       "<table border=\"1\" class=\"dataframe\">\n",
       "  <thead>\n",
       "    <tr style=\"text-align: right;\">\n",
       "      <th></th>\n",
       "      <th>user_id</th>\n",
       "      <th>action</th>\n",
       "      <th>action_type</th>\n",
       "      <th>action_detail</th>\n",
       "      <th>secs_elapsed</th>\n",
       "    </tr>\n",
       "  </thead>\n",
       "  <tbody>\n",
       "    <tr>\n",
       "      <th>0</th>\n",
       "      <td>qhlin1m4au</td>\n",
       "      <td>lookup  search_results  lookup  search_result...</td>\n",
       "      <td>view  click  view  click  view  click  view  ...</td>\n",
       "      <td>view_search_results  view_search_results  vie...</td>\n",
       "      <td>26988.417323</td>\n",
       "    </tr>\n",
       "    <tr>\n",
       "      <th>1</th>\n",
       "      <td>rrejislmu8</td>\n",
       "      <td>dashboard  create  confirm_email  show  show_...</td>\n",
       "      <td>view  submit  click  view  data  view  data  ...</td>\n",
       "      <td>dashboard  create_user  confirm_email_link  p...</td>\n",
       "      <td>23093.555556</td>\n",
       "    </tr>\n",
       "    <tr>\n",
       "      <th>2</th>\n",
       "      <td>rabdqsbhrg</td>\n",
       "      <td>verify  create  show  pending  requested  hea...</td>\n",
       "      <td>-unknown-  submit  message_post  booking_requ...</td>\n",
       "      <td>-unknown-  create_user  message_post  pending...</td>\n",
       "      <td>70965.250000</td>\n",
       "    </tr>\n",
       "    <tr>\n",
       "      <th>3</th>\n",
       "      <td>gsh4cx89rl</td>\n",
       "      <td>lookup  show  search_results  search_results ...</td>\n",
       "      <td>view  view  click  click  view  view  click  ...</td>\n",
       "      <td>view_search_results  p3  view_search_results ...</td>\n",
       "      <td>24704.605263</td>\n",
       "    </tr>\n",
       "    <tr>\n",
       "      <th>4</th>\n",
       "      <td>83iuuz3dgh</td>\n",
       "      <td>campaigns  active  create  notifications  lis...</td>\n",
       "      <td>-unknown-  -unknown-  -unknown-  -unknown-  -...</td>\n",
       "      <td>-unknown-  -unknown-  -unknown-  -unknown-  -...</td>\n",
       "      <td>319.375000</td>\n",
       "    </tr>\n",
       "    <tr>\n",
       "      <th>...</th>\n",
       "      <td>...</td>\n",
       "      <td>...</td>\n",
       "      <td>...</td>\n",
       "      <td>...</td>\n",
       "      <td>...</td>\n",
       "    </tr>\n",
       "    <tr>\n",
       "      <th>135478</th>\n",
       "      <td>dhw16of0rw</td>\n",
       "      <td>confirm_email  authenticate  index  header_us...</td>\n",
       "      <td>click  submit  view  data  submit  submit  da...</td>\n",
       "      <td>confirm_email_link  login  your_listings  hea...</td>\n",
       "      <td>27249.806452</td>\n",
       "    </tr>\n",
       "    <tr>\n",
       "      <th>135479</th>\n",
       "      <td>0bai1bqlg5</td>\n",
       "      <td>index  campaigns  collections  active  show  ...</td>\n",
       "      <td>view  view  view  -unknown-  view  view  view...</td>\n",
       "      <td>view_reservations  view_search_results  user_...</td>\n",
       "      <td>2580.900000</td>\n",
       "    </tr>\n",
       "    <tr>\n",
       "      <th>135480</th>\n",
       "      <td>pxqkaulydt</td>\n",
       "      <td>index  my  index  search_results  search_resu...</td>\n",
       "      <td>view  view  view  click  click  click  click ...</td>\n",
       "      <td>view_search_results  user_wishlists  user_wis...</td>\n",
       "      <td>10555.089744</td>\n",
       "    </tr>\n",
       "    <tr>\n",
       "      <th>135481</th>\n",
       "      <td>x5wv28tbuy</td>\n",
       "      <td>show  update  create  personalize  header_use...</td>\n",
       "      <td>view  submit  -unknown-  data  data  submit  ...</td>\n",
       "      <td>view_search_results  update_listing  -unknown...</td>\n",
       "      <td>23471.200000</td>\n",
       "    </tr>\n",
       "    <tr>\n",
       "      <th>135482</th>\n",
       "      <td>i0gk4eajyi</td>\n",
       "      <td>show  update  edit  languages_multiselect  cr...</td>\n",
       "      <td>view  submit  view  -unknown-  submit  partne...</td>\n",
       "      <td>user_profile  update_user_profile  edit_profi...</td>\n",
       "      <td>175284.000000</td>\n",
       "    </tr>\n",
       "  </tbody>\n",
       "</table>\n",
       "<p>135483 rows × 5 columns</p>\n",
       "</div>"
      ],
      "text/plain": [
       "           user_id                                             action  \\\n",
       "0       qhlin1m4au   lookup  search_results  lookup  search_result...   \n",
       "1       rrejislmu8   dashboard  create  confirm_email  show  show_...   \n",
       "2       rabdqsbhrg   verify  create  show  pending  requested  hea...   \n",
       "3       gsh4cx89rl   lookup  show  search_results  search_results ...   \n",
       "4       83iuuz3dgh   campaigns  active  create  notifications  lis...   \n",
       "...            ...                                                ...   \n",
       "135478  dhw16of0rw   confirm_email  authenticate  index  header_us...   \n",
       "135479  0bai1bqlg5   index  campaigns  collections  active  show  ...   \n",
       "135480  pxqkaulydt   index  my  index  search_results  search_resu...   \n",
       "135481  x5wv28tbuy   show  update  create  personalize  header_use...   \n",
       "135482  i0gk4eajyi   show  update  edit  languages_multiselect  cr...   \n",
       "\n",
       "                                              action_type  \\\n",
       "0        view  click  view  click  view  click  view  ...   \n",
       "1        view  submit  click  view  data  view  data  ...   \n",
       "2        -unknown-  submit  message_post  booking_requ...   \n",
       "3        view  view  click  click  view  view  click  ...   \n",
       "4        -unknown-  -unknown-  -unknown-  -unknown-  -...   \n",
       "...                                                   ...   \n",
       "135478   click  submit  view  data  submit  submit  da...   \n",
       "135479   view  view  view  -unknown-  view  view  view...   \n",
       "135480   view  view  view  click  click  click  click ...   \n",
       "135481   view  submit  -unknown-  data  data  submit  ...   \n",
       "135482   view  submit  view  -unknown-  submit  partne...   \n",
       "\n",
       "                                            action_detail   secs_elapsed  \n",
       "0        view_search_results  view_search_results  vie...   26988.417323  \n",
       "1        dashboard  create_user  confirm_email_link  p...   23093.555556  \n",
       "2        -unknown-  create_user  message_post  pending...   70965.250000  \n",
       "3        view_search_results  p3  view_search_results ...   24704.605263  \n",
       "4        -unknown-  -unknown-  -unknown-  -unknown-  -...     319.375000  \n",
       "...                                                   ...            ...  \n",
       "135478   confirm_email_link  login  your_listings  hea...   27249.806452  \n",
       "135479   view_reservations  view_search_results  user_...    2580.900000  \n",
       "135480   view_search_results  user_wishlists  user_wis...   10555.089744  \n",
       "135481   view_search_results  update_listing  -unknown...   23471.200000  \n",
       "135482   user_profile  update_user_profile  edit_profi...  175284.000000  \n",
       "\n",
       "[135483 rows x 5 columns]"
      ]
     },
     "execution_count": 19,
     "metadata": {},
     "output_type": "execute_result"
    }
   ],
   "source": [
    "#Criando novo Data Frame com as novas sessoes usando o agrupamento \n",
    "\n",
    "new_session = pd.DataFrame(user_id, columns=['user_id'])\n",
    "new_session['action'] = action['action'].values\n",
    "new_session['action_type'] = action_type['action_type'].values\n",
    "new_session['action_detail'] = action_detail['action_detail'].values\n",
    "new_session['secs_elapsed'] = sec_e['secs_elapsed'].values\n",
    "\n",
    "new_session"
   ]
  },
  {
   "cell_type": "code",
   "execution_count": 20,
   "metadata": {},
   "outputs": [
    {
     "data": {
      "text/plain": [
       "(135483, 5)"
      ]
     },
     "execution_count": 20,
     "metadata": {},
     "output_type": "execute_result"
    }
   ],
   "source": [
    "new_session.shape"
   ]
  },
  {
   "cell_type": "markdown",
   "metadata": {},
   "source": [
    "## Data Train_users"
   ]
  },
  {
   "cell_type": "code",
   "execution_count": 21,
   "metadata": {},
   "outputs": [],
   "source": [
    "train = pd.read_csv(path_data+'train_users_2.csv')"
   ]
  },
  {
   "cell_type": "code",
   "execution_count": 22,
   "metadata": {},
   "outputs": [
    {
     "data": {
      "text/html": [
       "<div>\n",
       "<style scoped>\n",
       "    .dataframe tbody tr th:only-of-type {\n",
       "        vertical-align: middle;\n",
       "    }\n",
       "\n",
       "    .dataframe tbody tr th {\n",
       "        vertical-align: top;\n",
       "    }\n",
       "\n",
       "    .dataframe thead th {\n",
       "        text-align: right;\n",
       "    }\n",
       "</style>\n",
       "<table border=\"1\" class=\"dataframe\">\n",
       "  <thead>\n",
       "    <tr style=\"text-align: right;\">\n",
       "      <th></th>\n",
       "      <th>id</th>\n",
       "      <th>date_account_created</th>\n",
       "      <th>timestamp_first_active</th>\n",
       "      <th>date_first_booking</th>\n",
       "      <th>gender</th>\n",
       "      <th>age</th>\n",
       "      <th>signup_method</th>\n",
       "      <th>signup_flow</th>\n",
       "      <th>language</th>\n",
       "      <th>affiliate_channel</th>\n",
       "      <th>affiliate_provider</th>\n",
       "      <th>first_affiliate_tracked</th>\n",
       "      <th>signup_app</th>\n",
       "      <th>first_device_type</th>\n",
       "      <th>first_browser</th>\n",
       "      <th>country_destination</th>\n",
       "    </tr>\n",
       "  </thead>\n",
       "  <tbody>\n",
       "    <tr>\n",
       "      <th>0</th>\n",
       "      <td>gxn3p5htnn</td>\n",
       "      <td>2010-06-28</td>\n",
       "      <td>20090319043255</td>\n",
       "      <td>NaN</td>\n",
       "      <td>-unknown-</td>\n",
       "      <td>NaN</td>\n",
       "      <td>facebook</td>\n",
       "      <td>0</td>\n",
       "      <td>en</td>\n",
       "      <td>direct</td>\n",
       "      <td>direct</td>\n",
       "      <td>untracked</td>\n",
       "      <td>Web</td>\n",
       "      <td>Mac Desktop</td>\n",
       "      <td>Chrome</td>\n",
       "      <td>NDF</td>\n",
       "    </tr>\n",
       "    <tr>\n",
       "      <th>1</th>\n",
       "      <td>820tgsjxq7</td>\n",
       "      <td>2011-05-25</td>\n",
       "      <td>20090523174809</td>\n",
       "      <td>NaN</td>\n",
       "      <td>MALE</td>\n",
       "      <td>38.0</td>\n",
       "      <td>facebook</td>\n",
       "      <td>0</td>\n",
       "      <td>en</td>\n",
       "      <td>seo</td>\n",
       "      <td>google</td>\n",
       "      <td>untracked</td>\n",
       "      <td>Web</td>\n",
       "      <td>Mac Desktop</td>\n",
       "      <td>Chrome</td>\n",
       "      <td>NDF</td>\n",
       "    </tr>\n",
       "    <tr>\n",
       "      <th>2</th>\n",
       "      <td>4ft3gnwmtx</td>\n",
       "      <td>2010-09-28</td>\n",
       "      <td>20090609231247</td>\n",
       "      <td>2010-08-02</td>\n",
       "      <td>FEMALE</td>\n",
       "      <td>56.0</td>\n",
       "      <td>basic</td>\n",
       "      <td>3</td>\n",
       "      <td>en</td>\n",
       "      <td>direct</td>\n",
       "      <td>direct</td>\n",
       "      <td>untracked</td>\n",
       "      <td>Web</td>\n",
       "      <td>Windows Desktop</td>\n",
       "      <td>IE</td>\n",
       "      <td>US</td>\n",
       "    </tr>\n",
       "    <tr>\n",
       "      <th>3</th>\n",
       "      <td>bjjt8pjhuk</td>\n",
       "      <td>2011-12-05</td>\n",
       "      <td>20091031060129</td>\n",
       "      <td>2012-09-08</td>\n",
       "      <td>FEMALE</td>\n",
       "      <td>42.0</td>\n",
       "      <td>facebook</td>\n",
       "      <td>0</td>\n",
       "      <td>en</td>\n",
       "      <td>direct</td>\n",
       "      <td>direct</td>\n",
       "      <td>untracked</td>\n",
       "      <td>Web</td>\n",
       "      <td>Mac Desktop</td>\n",
       "      <td>Firefox</td>\n",
       "      <td>other</td>\n",
       "    </tr>\n",
       "    <tr>\n",
       "      <th>4</th>\n",
       "      <td>87mebub9p4</td>\n",
       "      <td>2010-09-14</td>\n",
       "      <td>20091208061105</td>\n",
       "      <td>2010-02-18</td>\n",
       "      <td>-unknown-</td>\n",
       "      <td>41.0</td>\n",
       "      <td>basic</td>\n",
       "      <td>0</td>\n",
       "      <td>en</td>\n",
       "      <td>direct</td>\n",
       "      <td>direct</td>\n",
       "      <td>untracked</td>\n",
       "      <td>Web</td>\n",
       "      <td>Mac Desktop</td>\n",
       "      <td>Chrome</td>\n",
       "      <td>US</td>\n",
       "    </tr>\n",
       "  </tbody>\n",
       "</table>\n",
       "</div>"
      ],
      "text/plain": [
       "           id date_account_created  timestamp_first_active date_first_booking  \\\n",
       "0  gxn3p5htnn           2010-06-28          20090319043255                NaN   \n",
       "1  820tgsjxq7           2011-05-25          20090523174809                NaN   \n",
       "2  4ft3gnwmtx           2010-09-28          20090609231247         2010-08-02   \n",
       "3  bjjt8pjhuk           2011-12-05          20091031060129         2012-09-08   \n",
       "4  87mebub9p4           2010-09-14          20091208061105         2010-02-18   \n",
       "\n",
       "      gender   age signup_method  signup_flow language affiliate_channel  \\\n",
       "0  -unknown-   NaN      facebook            0       en            direct   \n",
       "1       MALE  38.0      facebook            0       en               seo   \n",
       "2     FEMALE  56.0         basic            3       en            direct   \n",
       "3     FEMALE  42.0      facebook            0       en            direct   \n",
       "4  -unknown-  41.0         basic            0       en            direct   \n",
       "\n",
       "  affiliate_provider first_affiliate_tracked signup_app first_device_type  \\\n",
       "0             direct               untracked        Web       Mac Desktop   \n",
       "1             google               untracked        Web       Mac Desktop   \n",
       "2             direct               untracked        Web   Windows Desktop   \n",
       "3             direct               untracked        Web       Mac Desktop   \n",
       "4             direct               untracked        Web       Mac Desktop   \n",
       "\n",
       "  first_browser country_destination  \n",
       "0        Chrome                 NDF  \n",
       "1        Chrome                 NDF  \n",
       "2            IE                  US  \n",
       "3       Firefox               other  \n",
       "4        Chrome                  US  "
      ]
     },
     "execution_count": 22,
     "metadata": {},
     "output_type": "execute_result"
    }
   ],
   "source": [
    "train.head()"
   ]
  },
  {
   "cell_type": "code",
   "execution_count": 23,
   "metadata": {},
   "outputs": [
    {
     "name": "stdout",
     "output_type": "stream",
     "text": [
      "Number of Rows: 213451\n",
      "Number of Columns: 16\n"
     ]
    }
   ],
   "source": [
    "#Data Dimensions\n",
    "\n",
    "print('Number of Rows: {}'.format(train.shape[0]))\n",
    "print('Number of Columns: {}'.format(train.shape[1]))"
   ]
  },
  {
   "cell_type": "code",
   "execution_count": 24,
   "metadata": {},
   "outputs": [
    {
     "data": {
      "text/html": [
       "<div>\n",
       "<style scoped>\n",
       "    .dataframe tbody tr th:only-of-type {\n",
       "        vertical-align: middle;\n",
       "    }\n",
       "\n",
       "    .dataframe tbody tr th {\n",
       "        vertical-align: top;\n",
       "    }\n",
       "\n",
       "    .dataframe thead th {\n",
       "        text-align: right;\n",
       "    }\n",
       "</style>\n",
       "<table border=\"1\" class=\"dataframe\">\n",
       "  <thead>\n",
       "    <tr style=\"text-align: right;\">\n",
       "      <th></th>\n",
       "      <th>user_id</th>\n",
       "      <th>date_account_created</th>\n",
       "      <th>timestamp_first_active</th>\n",
       "      <th>date_first_booking</th>\n",
       "      <th>gender</th>\n",
       "      <th>age</th>\n",
       "      <th>signup_method</th>\n",
       "      <th>signup_flow</th>\n",
       "      <th>language</th>\n",
       "      <th>affiliate_channel</th>\n",
       "      <th>affiliate_provider</th>\n",
       "      <th>first_affiliate_tracked</th>\n",
       "      <th>signup_app</th>\n",
       "      <th>first_device_type</th>\n",
       "      <th>first_browser</th>\n",
       "      <th>country_destination</th>\n",
       "    </tr>\n",
       "  </thead>\n",
       "  <tbody>\n",
       "    <tr>\n",
       "      <th>0</th>\n",
       "      <td>gxn3p5htnn</td>\n",
       "      <td>2010-06-28</td>\n",
       "      <td>20090319043255</td>\n",
       "      <td>NaN</td>\n",
       "      <td>-unknown-</td>\n",
       "      <td>NaN</td>\n",
       "      <td>facebook</td>\n",
       "      <td>0</td>\n",
       "      <td>en</td>\n",
       "      <td>direct</td>\n",
       "      <td>direct</td>\n",
       "      <td>untracked</td>\n",
       "      <td>Web</td>\n",
       "      <td>Mac Desktop</td>\n",
       "      <td>Chrome</td>\n",
       "      <td>NDF</td>\n",
       "    </tr>\n",
       "    <tr>\n",
       "      <th>1</th>\n",
       "      <td>820tgsjxq7</td>\n",
       "      <td>2011-05-25</td>\n",
       "      <td>20090523174809</td>\n",
       "      <td>NaN</td>\n",
       "      <td>MALE</td>\n",
       "      <td>38.0</td>\n",
       "      <td>facebook</td>\n",
       "      <td>0</td>\n",
       "      <td>en</td>\n",
       "      <td>seo</td>\n",
       "      <td>google</td>\n",
       "      <td>untracked</td>\n",
       "      <td>Web</td>\n",
       "      <td>Mac Desktop</td>\n",
       "      <td>Chrome</td>\n",
       "      <td>NDF</td>\n",
       "    </tr>\n",
       "  </tbody>\n",
       "</table>\n",
       "</div>"
      ],
      "text/plain": [
       "      user_id date_account_created  timestamp_first_active date_first_booking  \\\n",
       "0  gxn3p5htnn           2010-06-28          20090319043255                NaN   \n",
       "1  820tgsjxq7           2011-05-25          20090523174809                NaN   \n",
       "\n",
       "      gender   age signup_method  signup_flow language affiliate_channel  \\\n",
       "0  -unknown-   NaN      facebook            0       en            direct   \n",
       "1       MALE  38.0      facebook            0       en               seo   \n",
       "\n",
       "  affiliate_provider first_affiliate_tracked signup_app first_device_type  \\\n",
       "0             direct               untracked        Web       Mac Desktop   \n",
       "1             google               untracked        Web       Mac Desktop   \n",
       "\n",
       "  first_browser country_destination  \n",
       "0        Chrome                 NDF  \n",
       "1        Chrome                 NDF  "
      ]
     },
     "execution_count": 24,
     "metadata": {},
     "output_type": "execute_result"
    }
   ],
   "source": [
    "#Renomeando o ID\n",
    "train.rename(columns={'id': 'user_id'}, inplace=True)\n",
    "train.head(2)"
   ]
  },
  {
   "cell_type": "markdown",
   "metadata": {},
   "source": [
    "## Check NA"
   ]
  },
  {
   "cell_type": "code",
   "execution_count": 25,
   "metadata": {},
   "outputs": [
    {
     "data": {
      "image/png": "[encoded data removed]",
      "text/plain": [
       "<Figure size 1800x720 with 3 Axes>"
      ]
     },
     "metadata": {
      "needs_background": "light"
     },
     "output_type": "display_data"
    }
   ],
   "source": [
    "miss.bar(train)\n",
    "sns.despine()"
   ]
  },
  {
   "cell_type": "code",
   "execution_count": 26,
   "metadata": {},
   "outputs": [
    {
     "data": {
      "text/plain": [
       "user_id                    0.000000\n",
       "date_account_created       0.000000\n",
       "timestamp_first_active     0.000000\n",
       "date_first_booking         0.583473\n",
       "gender                     0.000000\n",
       "age                        0.412226\n",
       "signup_method              0.000000\n",
       "signup_flow                0.000000\n",
       "language                   0.000000\n",
       "affiliate_channel          0.000000\n",
       "affiliate_provider         0.000000\n",
       "first_affiliate_tracked    0.028414\n",
       "signup_app                 0.000000\n",
       "first_device_type          0.000000\n",
       "first_browser              0.000000\n",
       "country_destination        0.000000\n",
       "dtype: float64"
      ]
     },
     "execution_count": 26,
     "metadata": {},
     "output_type": "execute_result"
    }
   ],
   "source": [
    "train.isna().sum() / len(train)"
   ]
  },
  {
   "cell_type": "markdown",
   "metadata": {},
   "source": [
    "#### Date_first_booking"
   ]
  },
  {
   "cell_type": "code",
   "execution_count": 27,
   "metadata": {},
   "outputs": [],
   "source": [
    "# Temos Quase 60% dos dados faltantes nessa coluna, os dados faltantes representa apenas uma classe da variavel resposta (Sem destino definido)\n",
    "# Para preservar os dados e se estivesse trabalhando na AIRBNB colocaria a data atual, pois neste caso todos os dias os dados seriam atualizados para o dia atual.\n",
    "# Quando o cliente entrou no site até hoje teria x dias que ele ainda não fez o book. Dessa forma seria calculado essa quantidade de dias como features.\n",
    "# Como esses dados não estão atualizados, estou pegando a ultima data que temos de informação na coluna e adicionando para os dados faltantes \n",
    "\n",
    "# Tratamento dos NAs da coluna date_first_booking\n",
    "aux = train[train['date_first_booking'].isna()]\n",
    "aux['country_destination'].value_counts(normalize=True)\n",
    "\n",
    "#Transformando os NAs na data maxima do date_first_booking\n",
    "date_first_booking_max = pd.to_datetime(train['date_first_booking']).max().strftime('%Y-%m-%d')\n",
    "train.date_first_booking = train['date_first_booking'].fillna(date_first_booking_max)\n"
   ]
  },
  {
   "cell_type": "markdown",
   "metadata": {},
   "source": [
    "### Age"
   ]
  },
  {
   "cell_type": "code",
   "execution_count": 28,
   "metadata": {},
   "outputs": [
    {
     "data": {
      "text/plain": [
       "count    125461.000000\n",
       "mean         49.668335\n",
       "std         155.666612\n",
       "min           1.000000\n",
       "25%          28.000000\n",
       "50%          34.000000\n",
       "75%          43.000000\n",
       "max        2014.000000\n",
       "Name: age, dtype: float64"
      ]
     },
     "execution_count": 28,
     "metadata": {},
     "output_type": "execute_result"
    }
   ],
   "source": [
    "train.age.describe()"
   ]
  },
  {
   "cell_type": "code",
   "execution_count": 29,
   "metadata": {},
   "outputs": [
    {
     "name": "stdout",
     "output_type": "stream",
     "text": [
      "NDF      0.768428\n",
      "US       0.156529\n",
      "other    0.028617\n",
      "FR       0.014888\n",
      "IT       0.009081\n",
      "GB       0.006251\n",
      "ES       0.006171\n",
      "CA       0.003989\n",
      "DE       0.002387\n",
      "NL       0.001818\n",
      "AU       0.001171\n",
      "PT       0.000671\n",
      "Name: country_destination, dtype: float64\n"
     ]
    }
   ],
   "source": [
    "aux_age = train[train['age'].isna()]\n",
    "print(aux_age['country_destination'].value_counts(normalize=True))\n",
    "#Existe uma distribuição entre a idade NAs em relação a classe procurada.\n",
    "\n",
    "#Estarei adicionado a media da idade para idade acima de 95 e menor que 16. Assumindo que pessoas acima de 95 anos dificilmente conseguem realizar reserva e menores de 16\n",
    "#anos tambem.\n",
    "\n",
    "train.loc[train['age'] > 120, 'age'] = np.nan\n",
    "train.loc[train['age'] < 16, 'age'] = np.nan\n",
    "\n",
    "train.loc[train['age'].isnull(), 'age'] = train.age.median()\n"
   ]
  },
  {
   "cell_type": "code",
   "execution_count": 30,
   "metadata": {},
   "outputs": [
    {
     "data": {
      "text/plain": [
       "<AxesSubplot:xlabel='age', ylabel='Density'>"
      ]
     },
     "execution_count": 30,
     "metadata": {},
     "output_type": "execute_result"
    },
    {
     "data": {
      "image/png": "[encoded data removed]",
      "text/plain": [
       "<Figure size 432x288 with 1 Axes>"
      ]
     },
     "metadata": {
      "needs_background": "light"
     },
     "output_type": "display_data"
    }
   ],
   "source": [
    "sns.distplot(train.age)"
   ]
  },
  {
   "cell_type": "markdown",
   "metadata": {},
   "source": [
    "### First_affiliate_tracked"
   ]
  },
  {
   "cell_type": "code",
   "execution_count": 31,
   "metadata": {},
   "outputs": [],
   "source": [
    "#Os NAs dessa coluna representa apenas 2% do total dos dados, neste caso estarei excluindo todos os NAs.\n",
    "\n",
    "train = train[~train['first_affiliate_tracked'].isna()]"
   ]
  },
  {
   "cell_type": "code",
   "execution_count": 32,
   "metadata": {},
   "outputs": [
    {
     "data": {
      "text/plain": [
       "user_id                    0\n",
       "date_account_created       0\n",
       "timestamp_first_active     0\n",
       "date_first_booking         0\n",
       "gender                     0\n",
       "age                        0\n",
       "signup_method              0\n",
       "signup_flow                0\n",
       "language                   0\n",
       "affiliate_channel          0\n",
       "affiliate_provider         0\n",
       "first_affiliate_tracked    0\n",
       "signup_app                 0\n",
       "first_device_type          0\n",
       "first_browser              0\n",
       "country_destination        0\n",
       "dtype: int64"
      ]
     },
     "execution_count": 32,
     "metadata": {},
     "output_type": "execute_result"
    }
   ],
   "source": [
    "train.isna().sum()"
   ]
  },
  {
   "cell_type": "markdown",
   "metadata": {},
   "source": [
    "## Data Types"
   ]
  },
  {
   "cell_type": "code",
   "execution_count": 33,
   "metadata": {},
   "outputs": [
    {
     "data": {
      "text/plain": [
       "user_id                     object\n",
       "date_account_created        object\n",
       "timestamp_first_active       int64\n",
       "date_first_booking          object\n",
       "gender                      object\n",
       "age                        float64\n",
       "signup_method               object\n",
       "signup_flow                  int64\n",
       "language                    object\n",
       "affiliate_channel           object\n",
       "affiliate_provider          object\n",
       "first_affiliate_tracked     object\n",
       "signup_app                  object\n",
       "first_device_type           object\n",
       "first_browser               object\n",
       "country_destination         object\n",
       "dtype: object"
      ]
     },
     "execution_count": 33,
     "metadata": {},
     "output_type": "execute_result"
    }
   ],
   "source": [
    "train.dtypes"
   ]
  },
  {
   "cell_type": "markdown",
   "metadata": {},
   "source": [
    "### Tratamento nos tipos das colunas"
   ]
  },
  {
   "cell_type": "code",
   "execution_count": 34,
   "metadata": {},
   "outputs": [
    {
     "data": {
      "text/html": [
       "<div>\n",
       "<style scoped>\n",
       "    .dataframe tbody tr th:only-of-type {\n",
       "        vertical-align: middle;\n",
       "    }\n",
       "\n",
       "    .dataframe tbody tr th {\n",
       "        vertical-align: top;\n",
       "    }\n",
       "\n",
       "    .dataframe thead th {\n",
       "        text-align: right;\n",
       "    }\n",
       "</style>\n",
       "<table border=\"1\" class=\"dataframe\">\n",
       "  <thead>\n",
       "    <tr style=\"text-align: right;\">\n",
       "      <th></th>\n",
       "      <th>user_id</th>\n",
       "      <th>date_account_created</th>\n",
       "      <th>timestamp_first_active</th>\n",
       "      <th>date_first_booking</th>\n",
       "      <th>gender</th>\n",
       "      <th>age</th>\n",
       "      <th>signup_method</th>\n",
       "      <th>signup_flow</th>\n",
       "      <th>language</th>\n",
       "      <th>affiliate_channel</th>\n",
       "      <th>affiliate_provider</th>\n",
       "      <th>first_affiliate_tracked</th>\n",
       "      <th>signup_app</th>\n",
       "      <th>first_device_type</th>\n",
       "      <th>first_browser</th>\n",
       "      <th>country_destination</th>\n",
       "    </tr>\n",
       "  </thead>\n",
       "  <tbody>\n",
       "    <tr>\n",
       "      <th>0</th>\n",
       "      <td>gxn3p5htnn</td>\n",
       "      <td>2010-06-28</td>\n",
       "      <td>20090319043255</td>\n",
       "      <td>2015-06-29</td>\n",
       "      <td>-unknown-</td>\n",
       "      <td>34.0</td>\n",
       "      <td>facebook</td>\n",
       "      <td>0</td>\n",
       "      <td>en</td>\n",
       "      <td>direct</td>\n",
       "      <td>direct</td>\n",
       "      <td>untracked</td>\n",
       "      <td>Web</td>\n",
       "      <td>Mac Desktop</td>\n",
       "      <td>Chrome</td>\n",
       "      <td>NDF</td>\n",
       "    </tr>\n",
       "  </tbody>\n",
       "</table>\n",
       "</div>"
      ],
      "text/plain": [
       "      user_id date_account_created  timestamp_first_active date_first_booking  \\\n",
       "0  gxn3p5htnn           2010-06-28          20090319043255         2015-06-29   \n",
       "\n",
       "      gender   age signup_method  signup_flow language affiliate_channel  \\\n",
       "0  -unknown-  34.0      facebook            0       en            direct   \n",
       "\n",
       "  affiliate_provider first_affiliate_tracked signup_app first_device_type  \\\n",
       "0             direct               untracked        Web       Mac Desktop   \n",
       "\n",
       "  first_browser country_destination  \n",
       "0        Chrome                 NDF  "
      ]
     },
     "execution_count": 34,
     "metadata": {},
     "output_type": "execute_result"
    }
   ],
   "source": [
    "train.head(1)"
   ]
  },
  {
   "cell_type": "code",
   "execution_count": 35,
   "metadata": {},
   "outputs": [],
   "source": [
    "#date_acount_created\n",
    "train.date_account_created = pd.to_datetime(train.date_account_created)\n",
    "\n",
    "#Timestamp_first_active\n",
    "train['timestamp_first_active'] = pd.to_datetime(train['timestamp_first_active'], format='%Y%m%d%H%M%S')\n",
    "train.timestamp_first_active = pd.to_datetime(train.timestamp_first_active.dt.strftime('%Y-%m-%d'))\n",
    "\n",
    "#data_first_booking\n",
    "train.date_first_booking = pd.to_datetime(train.date_first_booking)\n",
    "\n",
    "#age\n",
    "train.age = train.age.astype(int)\n",
    "\n",
    "\n",
    "#Limpeza e ajustes nos dados\n",
    "\n",
    "train['first_device_type'] = [s.replace(' ', '_') for s in train.first_device_type]\n",
    "train['first_device_type'] = [s.replace('/', '_') for s in train.first_device_type]\n",
    "train['first_device_type'] = [s.replace('(', '') for s in train.first_device_type]\n",
    "train['first_device_type'] = [s.replace(')', '') for s in train.first_device_type]\n",
    "train['affiliate_channel'] = [s.replace('-', '_') for s in train.affiliate_channel]\n",
    "train['affiliate_provider']= [s.replace('-', '_') for s in train.affiliate_provider]\n",
    "train['first_browser']     = [s.replace('-', '') for s in train.first_browser]\n",
    "train['first_browser']     = [s.replace(' ', '_') for s in train.first_browser]\n",
    "train['first_browser']     = [s.replace('.', '_') for s in train.first_browser]\n",
    "train['gender']            = [s.replace('-', '') for s in train.gender]"
   ]
  },
  {
   "cell_type": "code",
   "execution_count": 36,
   "metadata": {},
   "outputs": [
    {
     "data": {
      "text/plain": [
       "user_id                            object\n",
       "date_account_created       datetime64[ns]\n",
       "timestamp_first_active     datetime64[ns]\n",
       "date_first_booking         datetime64[ns]\n",
       "gender                             object\n",
       "age                                 int64\n",
       "signup_method                      object\n",
       "signup_flow                         int64\n",
       "language                           object\n",
       "affiliate_channel                  object\n",
       "affiliate_provider                 object\n",
       "first_affiliate_tracked            object\n",
       "signup_app                         object\n",
       "first_device_type                  object\n",
       "first_browser                      object\n",
       "country_destination                object\n",
       "dtype: object"
      ]
     },
     "execution_count": 36,
     "metadata": {},
     "output_type": "execute_result"
    }
   ],
   "source": [
    "train.dtypes"
   ]
  },
  {
   "cell_type": "code",
   "execution_count": 37,
   "metadata": {},
   "outputs": [
    {
     "data": {
      "text/html": [
       "<div>\n",
       "<style scoped>\n",
       "    .dataframe tbody tr th:only-of-type {\n",
       "        vertical-align: middle;\n",
       "    }\n",
       "\n",
       "    .dataframe tbody tr th {\n",
       "        vertical-align: top;\n",
       "    }\n",
       "\n",
       "    .dataframe thead th {\n",
       "        text-align: right;\n",
       "    }\n",
       "</style>\n",
       "<table border=\"1\" class=\"dataframe\">\n",
       "  <thead>\n",
       "    <tr style=\"text-align: right;\">\n",
       "      <th></th>\n",
       "      <th>user_id</th>\n",
       "      <th>date_account_created</th>\n",
       "      <th>timestamp_first_active</th>\n",
       "      <th>date_first_booking</th>\n",
       "      <th>gender</th>\n",
       "      <th>age</th>\n",
       "      <th>signup_method</th>\n",
       "      <th>signup_flow</th>\n",
       "      <th>language</th>\n",
       "      <th>affiliate_channel</th>\n",
       "      <th>affiliate_provider</th>\n",
       "      <th>first_affiliate_tracked</th>\n",
       "      <th>signup_app</th>\n",
       "      <th>first_device_type</th>\n",
       "      <th>first_browser</th>\n",
       "      <th>country_destination</th>\n",
       "    </tr>\n",
       "  </thead>\n",
       "  <tbody>\n",
       "    <tr>\n",
       "      <th>0</th>\n",
       "      <td>gxn3p5htnn</td>\n",
       "      <td>2010-06-28</td>\n",
       "      <td>2009-03-19</td>\n",
       "      <td>2015-06-29</td>\n",
       "      <td>unknown</td>\n",
       "      <td>34</td>\n",
       "      <td>facebook</td>\n",
       "      <td>0</td>\n",
       "      <td>en</td>\n",
       "      <td>direct</td>\n",
       "      <td>direct</td>\n",
       "      <td>untracked</td>\n",
       "      <td>Web</td>\n",
       "      <td>Mac_Desktop</td>\n",
       "      <td>Chrome</td>\n",
       "      <td>NDF</td>\n",
       "    </tr>\n",
       "  </tbody>\n",
       "</table>\n",
       "</div>"
      ],
      "text/plain": [
       "      user_id date_account_created timestamp_first_active date_first_booking  \\\n",
       "0  gxn3p5htnn           2010-06-28             2009-03-19         2015-06-29   \n",
       "\n",
       "    gender  age signup_method  signup_flow language affiliate_channel  \\\n",
       "0  unknown   34      facebook            0       en            direct   \n",
       "\n",
       "  affiliate_provider first_affiliate_tracked signup_app first_device_type  \\\n",
       "0             direct               untracked        Web       Mac_Desktop   \n",
       "\n",
       "  first_browser country_destination  \n",
       "0        Chrome                 NDF  "
      ]
     },
     "execution_count": 37,
     "metadata": {},
     "output_type": "execute_result"
    }
   ],
   "source": [
    "train.head(1)"
   ]
  },
  {
   "cell_type": "markdown",
   "metadata": {},
   "source": [
    "## Dataset Train_user Final"
   ]
  },
  {
   "cell_type": "code",
   "execution_count": 38,
   "metadata": {},
   "outputs": [
    {
     "name": "stdout",
     "output_type": "stream",
     "text": [
      "Number of Rows: 73513\n",
      "Number of Columns: 20\n"
     ]
    }
   ],
   "source": [
    "#Juntando dataset session com o dataset treino.\n",
    "new_train = train.set_index('user_id').join(new_session.set_index('user_id'), how='inner', on='user_id').reset_index()\n",
    "new_train.head(1)\n",
    "\n",
    "#Data Dimensions\n",
    "\n",
    "print('Number of Rows: {}'.format(new_train.shape[0]))\n",
    "print('Number of Columns: {}'.format(new_train.shape[1]))"
   ]
  },
  {
   "cell_type": "code",
   "execution_count": 39,
   "metadata": {},
   "outputs": [
    {
     "data": {
      "image/png": "[encoded data removed]",
      "text/plain": [
       "<Figure size 1800x720 with 3 Axes>"
      ]
     },
     "metadata": {
      "needs_background": "light"
     },
     "output_type": "display_data"
    }
   ],
   "source": [
    "miss.bar(new_train)\n",
    "sns.despine()"
   ]
  },
  {
   "cell_type": "code",
   "execution_count": 40,
   "metadata": {},
   "outputs": [
    {
     "data": {
      "text/plain": [
       "user_id                            object\n",
       "date_account_created       datetime64[ns]\n",
       "timestamp_first_active     datetime64[ns]\n",
       "date_first_booking         datetime64[ns]\n",
       "gender                             object\n",
       "age                                 int64\n",
       "signup_method                      object\n",
       "signup_flow                         int64\n",
       "language                           object\n",
       "affiliate_channel                  object\n",
       "affiliate_provider                 object\n",
       "first_affiliate_tracked            object\n",
       "signup_app                         object\n",
       "first_device_type                  object\n",
       "first_browser                      object\n",
       "country_destination                object\n",
       "action                             object\n",
       "action_type                        object\n",
       "action_detail                      object\n",
       "secs_elapsed                      float64\n",
       "dtype: object"
      ]
     },
     "execution_count": 40,
     "metadata": {},
     "output_type": "execute_result"
    }
   ],
   "source": [
    "new_train.dtypes"
   ]
  },
  {
   "cell_type": "code",
   "execution_count": 41,
   "metadata": {},
   "outputs": [
    {
     "data": {
      "image/png": "[encoded data removed]",
      "text/plain": [
       "<Figure size 720x432 with 1 Axes>"
      ]
     },
     "metadata": {
      "needs_background": "light"
     },
     "output_type": "display_data"
    }
   ],
   "source": [
    "#Chack Balanced Data\n",
    "\n",
    "plt.figure(figsize = (10, 6))\n",
    "ax = sns.countplot(x='country_destination', data=new_train, palette='Set1')\n",
    "\n",
    "for p in ax.patches:\n",
    "    percentage = '{:.1f}%'.format(100 * p.get_height() / new_train.shape[0])\n",
    "    x = p.get_x() + p.get_width()\n",
    "    y = p.get_height()\n",
    "    ax.annotate(percentage, (x, y), ha='center')\n",
    "sns.despine()\n"
   ]
  },
  {
   "cell_type": "code",
   "execution_count": 42,
   "metadata": {},
   "outputs": [],
   "source": []
  },
  {
   "cell_type": "markdown",
   "metadata": {},
   "source": [
    "## Data test_users"
   ]
  },
  {
   "cell_type": "code",
   "execution_count": 43,
   "metadata": {},
   "outputs": [
    {
     "data": {
      "text/html": [
       "<div>\n",
       "<style scoped>\n",
       "    .dataframe tbody tr th:only-of-type {\n",
       "        vertical-align: middle;\n",
       "    }\n",
       "\n",
       "    .dataframe tbody tr th {\n",
       "        vertical-align: top;\n",
       "    }\n",
       "\n",
       "    .dataframe thead th {\n",
       "        text-align: right;\n",
       "    }\n",
       "</style>\n",
       "<table border=\"1\" class=\"dataframe\">\n",
       "  <thead>\n",
       "    <tr style=\"text-align: right;\">\n",
       "      <th></th>\n",
       "      <th>id</th>\n",
       "      <th>date_account_created</th>\n",
       "      <th>timestamp_first_active</th>\n",
       "      <th>date_first_booking</th>\n",
       "      <th>gender</th>\n",
       "      <th>age</th>\n",
       "      <th>signup_method</th>\n",
       "      <th>signup_flow</th>\n",
       "      <th>language</th>\n",
       "      <th>affiliate_channel</th>\n",
       "      <th>affiliate_provider</th>\n",
       "      <th>first_affiliate_tracked</th>\n",
       "      <th>signup_app</th>\n",
       "      <th>first_device_type</th>\n",
       "      <th>first_browser</th>\n",
       "    </tr>\n",
       "  </thead>\n",
       "  <tbody>\n",
       "    <tr>\n",
       "      <th>0</th>\n",
       "      <td>5uwns89zht</td>\n",
       "      <td>2014-07-01</td>\n",
       "      <td>20140701000006</td>\n",
       "      <td>NaN</td>\n",
       "      <td>FEMALE</td>\n",
       "      <td>35.0</td>\n",
       "      <td>facebook</td>\n",
       "      <td>0</td>\n",
       "      <td>en</td>\n",
       "      <td>direct</td>\n",
       "      <td>direct</td>\n",
       "      <td>untracked</td>\n",
       "      <td>Moweb</td>\n",
       "      <td>iPhone</td>\n",
       "      <td>Mobile Safari</td>\n",
       "    </tr>\n",
       "    <tr>\n",
       "      <th>1</th>\n",
       "      <td>jtl0dijy2j</td>\n",
       "      <td>2014-07-01</td>\n",
       "      <td>20140701000051</td>\n",
       "      <td>NaN</td>\n",
       "      <td>-unknown-</td>\n",
       "      <td>NaN</td>\n",
       "      <td>basic</td>\n",
       "      <td>0</td>\n",
       "      <td>en</td>\n",
       "      <td>direct</td>\n",
       "      <td>direct</td>\n",
       "      <td>untracked</td>\n",
       "      <td>Moweb</td>\n",
       "      <td>iPhone</td>\n",
       "      <td>Mobile Safari</td>\n",
       "    </tr>\n",
       "    <tr>\n",
       "      <th>2</th>\n",
       "      <td>xx0ulgorjt</td>\n",
       "      <td>2014-07-01</td>\n",
       "      <td>20140701000148</td>\n",
       "      <td>NaN</td>\n",
       "      <td>-unknown-</td>\n",
       "      <td>NaN</td>\n",
       "      <td>basic</td>\n",
       "      <td>0</td>\n",
       "      <td>en</td>\n",
       "      <td>direct</td>\n",
       "      <td>direct</td>\n",
       "      <td>linked</td>\n",
       "      <td>Web</td>\n",
       "      <td>Windows Desktop</td>\n",
       "      <td>Chrome</td>\n",
       "    </tr>\n",
       "    <tr>\n",
       "      <th>3</th>\n",
       "      <td>6c6puo6ix0</td>\n",
       "      <td>2014-07-01</td>\n",
       "      <td>20140701000215</td>\n",
       "      <td>NaN</td>\n",
       "      <td>-unknown-</td>\n",
       "      <td>NaN</td>\n",
       "      <td>basic</td>\n",
       "      <td>0</td>\n",
       "      <td>en</td>\n",
       "      <td>direct</td>\n",
       "      <td>direct</td>\n",
       "      <td>linked</td>\n",
       "      <td>Web</td>\n",
       "      <td>Windows Desktop</td>\n",
       "      <td>IE</td>\n",
       "    </tr>\n",
       "    <tr>\n",
       "      <th>4</th>\n",
       "      <td>czqhjk3yfe</td>\n",
       "      <td>2014-07-01</td>\n",
       "      <td>20140701000305</td>\n",
       "      <td>NaN</td>\n",
       "      <td>-unknown-</td>\n",
       "      <td>NaN</td>\n",
       "      <td>basic</td>\n",
       "      <td>0</td>\n",
       "      <td>en</td>\n",
       "      <td>direct</td>\n",
       "      <td>direct</td>\n",
       "      <td>untracked</td>\n",
       "      <td>Web</td>\n",
       "      <td>Mac Desktop</td>\n",
       "      <td>Safari</td>\n",
       "    </tr>\n",
       "  </tbody>\n",
       "</table>\n",
       "</div>"
      ],
      "text/plain": [
       "           id date_account_created  timestamp_first_active  \\\n",
       "0  5uwns89zht           2014-07-01          20140701000006   \n",
       "1  jtl0dijy2j           2014-07-01          20140701000051   \n",
       "2  xx0ulgorjt           2014-07-01          20140701000148   \n",
       "3  6c6puo6ix0           2014-07-01          20140701000215   \n",
       "4  czqhjk3yfe           2014-07-01          20140701000305   \n",
       "\n",
       "   date_first_booking     gender   age signup_method  signup_flow language  \\\n",
       "0                 NaN     FEMALE  35.0      facebook            0       en   \n",
       "1                 NaN  -unknown-   NaN         basic            0       en   \n",
       "2                 NaN  -unknown-   NaN         basic            0       en   \n",
       "3                 NaN  -unknown-   NaN         basic            0       en   \n",
       "4                 NaN  -unknown-   NaN         basic            0       en   \n",
       "\n",
       "  affiliate_channel affiliate_provider first_affiliate_tracked signup_app  \\\n",
       "0            direct             direct               untracked      Moweb   \n",
       "1            direct             direct               untracked      Moweb   \n",
       "2            direct             direct                  linked        Web   \n",
       "3            direct             direct                  linked        Web   \n",
       "4            direct             direct               untracked        Web   \n",
       "\n",
       "  first_device_type  first_browser  \n",
       "0            iPhone  Mobile Safari  \n",
       "1            iPhone  Mobile Safari  \n",
       "2   Windows Desktop         Chrome  \n",
       "3   Windows Desktop             IE  \n",
       "4       Mac Desktop         Safari  "
      ]
     },
     "execution_count": 43,
     "metadata": {},
     "output_type": "execute_result"
    }
   ],
   "source": [
    "data = pd.read_csv(path_data+'test_users.csv')\n",
    "data.head()"
   ]
  },
  {
   "cell_type": "code",
   "execution_count": 44,
   "metadata": {},
   "outputs": [
    {
     "name": "stdout",
     "output_type": "stream",
     "text": [
      "Number of Rows: 62096\n",
      "Number of Columns: 15\n"
     ]
    }
   ],
   "source": [
    "#Data Dimensions\n",
    "print('Number of Rows: {}'.format(data.shape[0]))\n",
    "print('Number of Columns: {}'.format(data.shape[1]))"
   ]
  },
  {
   "cell_type": "code",
   "execution_count": 45,
   "metadata": {},
   "outputs": [
    {
     "data": {
      "text/html": [
       "<div>\n",
       "<style scoped>\n",
       "    .dataframe tbody tr th:only-of-type {\n",
       "        vertical-align: middle;\n",
       "    }\n",
       "\n",
       "    .dataframe tbody tr th {\n",
       "        vertical-align: top;\n",
       "    }\n",
       "\n",
       "    .dataframe thead th {\n",
       "        text-align: right;\n",
       "    }\n",
       "</style>\n",
       "<table border=\"1\" class=\"dataframe\">\n",
       "  <thead>\n",
       "    <tr style=\"text-align: right;\">\n",
       "      <th></th>\n",
       "      <th>user_id</th>\n",
       "      <th>date_account_created</th>\n",
       "      <th>timestamp_first_active</th>\n",
       "      <th>date_first_booking</th>\n",
       "      <th>gender</th>\n",
       "      <th>age</th>\n",
       "      <th>signup_method</th>\n",
       "      <th>signup_flow</th>\n",
       "      <th>language</th>\n",
       "      <th>affiliate_channel</th>\n",
       "      <th>affiliate_provider</th>\n",
       "      <th>first_affiliate_tracked</th>\n",
       "      <th>signup_app</th>\n",
       "      <th>first_device_type</th>\n",
       "      <th>first_browser</th>\n",
       "    </tr>\n",
       "  </thead>\n",
       "  <tbody>\n",
       "    <tr>\n",
       "      <th>0</th>\n",
       "      <td>5uwns89zht</td>\n",
       "      <td>2014-07-01</td>\n",
       "      <td>20140701000006</td>\n",
       "      <td>NaN</td>\n",
       "      <td>FEMALE</td>\n",
       "      <td>35.0</td>\n",
       "      <td>facebook</td>\n",
       "      <td>0</td>\n",
       "      <td>en</td>\n",
       "      <td>direct</td>\n",
       "      <td>direct</td>\n",
       "      <td>untracked</td>\n",
       "      <td>Moweb</td>\n",
       "      <td>iPhone</td>\n",
       "      <td>Mobile Safari</td>\n",
       "    </tr>\n",
       "    <tr>\n",
       "      <th>1</th>\n",
       "      <td>jtl0dijy2j</td>\n",
       "      <td>2014-07-01</td>\n",
       "      <td>20140701000051</td>\n",
       "      <td>NaN</td>\n",
       "      <td>-unknown-</td>\n",
       "      <td>NaN</td>\n",
       "      <td>basic</td>\n",
       "      <td>0</td>\n",
       "      <td>en</td>\n",
       "      <td>direct</td>\n",
       "      <td>direct</td>\n",
       "      <td>untracked</td>\n",
       "      <td>Moweb</td>\n",
       "      <td>iPhone</td>\n",
       "      <td>Mobile Safari</td>\n",
       "    </tr>\n",
       "  </tbody>\n",
       "</table>\n",
       "</div>"
      ],
      "text/plain": [
       "      user_id date_account_created  timestamp_first_active  \\\n",
       "0  5uwns89zht           2014-07-01          20140701000006   \n",
       "1  jtl0dijy2j           2014-07-01          20140701000051   \n",
       "\n",
       "   date_first_booking     gender   age signup_method  signup_flow language  \\\n",
       "0                 NaN     FEMALE  35.0      facebook            0       en   \n",
       "1                 NaN  -unknown-   NaN         basic            0       en   \n",
       "\n",
       "  affiliate_channel affiliate_provider first_affiliate_tracked signup_app  \\\n",
       "0            direct             direct               untracked      Moweb   \n",
       "1            direct             direct               untracked      Moweb   \n",
       "\n",
       "  first_device_type  first_browser  \n",
       "0            iPhone  Mobile Safari  \n",
       "1            iPhone  Mobile Safari  "
      ]
     },
     "execution_count": 45,
     "metadata": {},
     "output_type": "execute_result"
    }
   ],
   "source": [
    "#Renomeando o ID\n",
    "data.rename(columns={'id': 'user_id'}, inplace=True)\n",
    "data.head(2)"
   ]
  },
  {
   "cell_type": "markdown",
   "metadata": {},
   "source": [
    "## Check NA"
   ]
  },
  {
   "cell_type": "code",
   "execution_count": 46,
   "metadata": {},
   "outputs": [
    {
     "data": {
      "image/png": "[encoded data removed]",
      "text/plain": [
       "<Figure size 1800x720 with 3 Axes>"
      ]
     },
     "metadata": {
      "needs_background": "light"
     },
     "output_type": "display_data"
    }
   ],
   "source": [
    "miss.bar(data)\n",
    "sns.despine()"
   ]
  },
  {
   "cell_type": "code",
   "execution_count": 47,
   "metadata": {},
   "outputs": [
    {
     "data": {
      "text/plain": [
       "user_id                    0.000000\n",
       "date_account_created       0.000000\n",
       "timestamp_first_active     0.000000\n",
       "date_first_booking         1.000000\n",
       "gender                     0.000000\n",
       "age                        0.465022\n",
       "signup_method              0.000000\n",
       "signup_flow                0.000000\n",
       "language                   0.000000\n",
       "affiliate_channel          0.000000\n",
       "affiliate_provider         0.000000\n",
       "first_affiliate_tracked    0.000322\n",
       "signup_app                 0.000000\n",
       "first_device_type          0.000000\n",
       "first_browser              0.000000\n",
       "dtype: float64"
      ]
     },
     "execution_count": 47,
     "metadata": {},
     "output_type": "execute_result"
    }
   ],
   "source": [
    "data.isna().sum() / len(data)"
   ]
  },
  {
   "cell_type": "markdown",
   "metadata": {},
   "source": [
    "#### Date_first_booking"
   ]
  },
  {
   "cell_type": "code",
   "execution_count": 48,
   "metadata": {},
   "outputs": [],
   "source": [
    "#Nesta coluna temos 100% NAs, pois como são dados de teste não teremos nenhum cliente que ja\n",
    "#tenha feito o primeiro book.\n",
    "#Neste caso iremos excluir essa coluna.\n",
    "\n",
    "data = data.drop('date_first_booking', axis=1)"
   ]
  },
  {
   "cell_type": "markdown",
   "metadata": {},
   "source": [
    "### Age"
   ]
  },
  {
   "cell_type": "code",
   "execution_count": 49,
   "metadata": {},
   "outputs": [
    {
     "data": {
      "text/plain": [
       "count    33220.000000\n",
       "mean        37.616677\n",
       "std         74.440647\n",
       "min          1.000000\n",
       "25%         26.000000\n",
       "50%         31.000000\n",
       "75%         40.000000\n",
       "max       2002.000000\n",
       "Name: age, dtype: float64"
      ]
     },
     "execution_count": 49,
     "metadata": {},
     "output_type": "execute_result"
    }
   ],
   "source": [
    "data.age.describe()"
   ]
  },
  {
   "cell_type": "code",
   "execution_count": 50,
   "metadata": {},
   "outputs": [],
   "source": [
    "aux1_age = data[data['age'].isna()]\n",
    "\n",
    "#Estarei adicionado a media da idade para idade acima de 95 e menor que 16. Assumindo que pessoas acima de 95 anos dificilmente conseguem realizar reserva e menores de 16\n",
    "#anos tambem.\n",
    "\n",
    "data.loc[data['age'] > 120, 'age'] = np.nan\n",
    "data.loc[data['age'] < 16, 'age'] = np.nan\n",
    "\n",
    "data.loc[data['age'].isnull(), 'age'] = train.age.median()\n"
   ]
  },
  {
   "cell_type": "code",
   "execution_count": 51,
   "metadata": {},
   "outputs": [
    {
     "data": {
      "text/plain": [
       "<AxesSubplot:xlabel='age', ylabel='Density'>"
      ]
     },
     "execution_count": 51,
     "metadata": {},
     "output_type": "execute_result"
    },
    {
     "data": {
      "image/png": "[encoded data removed]",
      "text/plain": [
       "<Figure size 432x288 with 1 Axes>"
      ]
     },
     "metadata": {
      "needs_background": "light"
     },
     "output_type": "display_data"
    }
   ],
   "source": [
    "sns.distplot(data.age)"
   ]
  },
  {
   "cell_type": "markdown",
   "metadata": {},
   "source": [
    "### First_affiliate_tracked"
   ]
  },
  {
   "cell_type": "code",
   "execution_count": 52,
   "metadata": {},
   "outputs": [],
   "source": [
    "#Os NAs dessa coluna representa apenas 2% do total dos dados, neste caso estarei excluindo todos os NAs.\n",
    "\n",
    "data = data[~data['first_affiliate_tracked'].isna()]"
   ]
  },
  {
   "cell_type": "code",
   "execution_count": 53,
   "metadata": {},
   "outputs": [
    {
     "data": {
      "text/plain": [
       "user_id                    0\n",
       "date_account_created       0\n",
       "timestamp_first_active     0\n",
       "gender                     0\n",
       "age                        0\n",
       "signup_method              0\n",
       "signup_flow                0\n",
       "language                   0\n",
       "affiliate_channel          0\n",
       "affiliate_provider         0\n",
       "first_affiliate_tracked    0\n",
       "signup_app                 0\n",
       "first_device_type          0\n",
       "first_browser              0\n",
       "dtype: int64"
      ]
     },
     "execution_count": 53,
     "metadata": {},
     "output_type": "execute_result"
    }
   ],
   "source": [
    "data.isna().sum()"
   ]
  },
  {
   "cell_type": "code",
   "execution_count": 54,
   "metadata": {},
   "outputs": [
    {
     "data": {
      "text/plain": [
       "user_id                     object\n",
       "date_account_created        object\n",
       "timestamp_first_active       int64\n",
       "gender                      object\n",
       "age                        float64\n",
       "signup_method               object\n",
       "signup_flow                  int64\n",
       "language                    object\n",
       "affiliate_channel           object\n",
       "affiliate_provider          object\n",
       "first_affiliate_tracked     object\n",
       "signup_app                  object\n",
       "first_device_type           object\n",
       "first_browser               object\n",
       "dtype: object"
      ]
     },
     "execution_count": 54,
     "metadata": {},
     "output_type": "execute_result"
    }
   ],
   "source": [
    "data.dtypes"
   ]
  },
  {
   "cell_type": "markdown",
   "metadata": {},
   "source": [
    "### Tratamento nos tipos das colunas"
   ]
  },
  {
   "cell_type": "code",
   "execution_count": 55,
   "metadata": {},
   "outputs": [
    {
     "data": {
      "text/html": [
       "<div>\n",
       "<style scoped>\n",
       "    .dataframe tbody tr th:only-of-type {\n",
       "        vertical-align: middle;\n",
       "    }\n",
       "\n",
       "    .dataframe tbody tr th {\n",
       "        vertical-align: top;\n",
       "    }\n",
       "\n",
       "    .dataframe thead th {\n",
       "        text-align: right;\n",
       "    }\n",
       "</style>\n",
       "<table border=\"1\" class=\"dataframe\">\n",
       "  <thead>\n",
       "    <tr style=\"text-align: right;\">\n",
       "      <th></th>\n",
       "      <th>user_id</th>\n",
       "      <th>date_account_created</th>\n",
       "      <th>timestamp_first_active</th>\n",
       "      <th>gender</th>\n",
       "      <th>age</th>\n",
       "      <th>signup_method</th>\n",
       "      <th>signup_flow</th>\n",
       "      <th>language</th>\n",
       "      <th>affiliate_channel</th>\n",
       "      <th>affiliate_provider</th>\n",
       "      <th>first_affiliate_tracked</th>\n",
       "      <th>signup_app</th>\n",
       "      <th>first_device_type</th>\n",
       "      <th>first_browser</th>\n",
       "    </tr>\n",
       "  </thead>\n",
       "  <tbody>\n",
       "    <tr>\n",
       "      <th>0</th>\n",
       "      <td>5uwns89zht</td>\n",
       "      <td>2014-07-01</td>\n",
       "      <td>20140701000006</td>\n",
       "      <td>FEMALE</td>\n",
       "      <td>35.0</td>\n",
       "      <td>facebook</td>\n",
       "      <td>0</td>\n",
       "      <td>en</td>\n",
       "      <td>direct</td>\n",
       "      <td>direct</td>\n",
       "      <td>untracked</td>\n",
       "      <td>Moweb</td>\n",
       "      <td>iPhone</td>\n",
       "      <td>Mobile Safari</td>\n",
       "    </tr>\n",
       "  </tbody>\n",
       "</table>\n",
       "</div>"
      ],
      "text/plain": [
       "      user_id date_account_created  timestamp_first_active  gender   age  \\\n",
       "0  5uwns89zht           2014-07-01          20140701000006  FEMALE  35.0   \n",
       "\n",
       "  signup_method  signup_flow language affiliate_channel affiliate_provider  \\\n",
       "0      facebook            0       en            direct             direct   \n",
       "\n",
       "  first_affiliate_tracked signup_app first_device_type  first_browser  \n",
       "0               untracked      Moweb            iPhone  Mobile Safari  "
      ]
     },
     "execution_count": 55,
     "metadata": {},
     "output_type": "execute_result"
    }
   ],
   "source": [
    "data.head(1)"
   ]
  },
  {
   "cell_type": "code",
   "execution_count": 56,
   "metadata": {},
   "outputs": [],
   "source": [
    "#data_acount_created\n",
    "data.date_account_created = pd.to_datetime(data.date_account_created)\n",
    "\n",
    "#timestamp_first_active\n",
    "data['timestamp_first_active'] = pd.to_datetime(data['timestamp_first_active'], format='%Y%m%d%H%M%S')\n",
    "data.timestamp_first_active = pd.to_datetime(data.timestamp_first_active.dt.strftime('%Y-%m-%d'))\n",
    "\n",
    "#data_first_booking\n",
    "data.age = data.age.astype(int)\n",
    "\n",
    "#Tratamento e ajustes nos dados\n",
    "data['first_device_type'] = [s.replace(' ', '_') for s in data.first_device_type]\n",
    "data['first_device_type'] = [s.replace('/', '_') for s in data.first_device_type]\n",
    "data['first_device_type'] = [s.replace('(', '') for s in  data.first_device_type]\n",
    "data['first_device_type'] = [s.replace(')', '') for s in  data.first_device_type]\n",
    "data['affiliate_channel'] = [s.replace('-', '_') for s in data.affiliate_channel]\n",
    "data['affiliate_provider']= [s.replace('-', '_') for s in data.affiliate_provider]\n",
    "data['first_browser']     = [s.replace('-', '') for s in  data.first_browser]\n",
    "data['first_browser']     = [s.replace(' ', '_') for s in data.first_browser]\n",
    "data['first_browser']     = [s.replace('.', '_') for s in data.first_browser]\n",
    "data['gender']            = [s.replace('-', '') for s in  data.gender]"
   ]
  },
  {
   "cell_type": "code",
   "execution_count": 57,
   "metadata": {},
   "outputs": [
    {
     "data": {
      "text/plain": [
       "user_id                            object\n",
       "date_account_created       datetime64[ns]\n",
       "timestamp_first_active     datetime64[ns]\n",
       "gender                             object\n",
       "age                                 int64\n",
       "signup_method                      object\n",
       "signup_flow                         int64\n",
       "language                           object\n",
       "affiliate_channel                  object\n",
       "affiliate_provider                 object\n",
       "first_affiliate_tracked            object\n",
       "signup_app                         object\n",
       "first_device_type                  object\n",
       "first_browser                      object\n",
       "dtype: object"
      ]
     },
     "execution_count": 57,
     "metadata": {},
     "output_type": "execute_result"
    }
   ],
   "source": [
    "data.dtypes"
   ]
  },
  {
   "cell_type": "code",
   "execution_count": 58,
   "metadata": {},
   "outputs": [
    {
     "data": {
      "text/html": [
       "<div>\n",
       "<style scoped>\n",
       "    .dataframe tbody tr th:only-of-type {\n",
       "        vertical-align: middle;\n",
       "    }\n",
       "\n",
       "    .dataframe tbody tr th {\n",
       "        vertical-align: top;\n",
       "    }\n",
       "\n",
       "    .dataframe thead th {\n",
       "        text-align: right;\n",
       "    }\n",
       "</style>\n",
       "<table border=\"1\" class=\"dataframe\">\n",
       "  <thead>\n",
       "    <tr style=\"text-align: right;\">\n",
       "      <th></th>\n",
       "      <th>user_id</th>\n",
       "      <th>date_account_created</th>\n",
       "      <th>timestamp_first_active</th>\n",
       "      <th>gender</th>\n",
       "      <th>age</th>\n",
       "      <th>signup_method</th>\n",
       "      <th>signup_flow</th>\n",
       "      <th>language</th>\n",
       "      <th>affiliate_channel</th>\n",
       "      <th>affiliate_provider</th>\n",
       "      <th>first_affiliate_tracked</th>\n",
       "      <th>signup_app</th>\n",
       "      <th>first_device_type</th>\n",
       "      <th>first_browser</th>\n",
       "    </tr>\n",
       "  </thead>\n",
       "  <tbody>\n",
       "    <tr>\n",
       "      <th>0</th>\n",
       "      <td>5uwns89zht</td>\n",
       "      <td>2014-07-01</td>\n",
       "      <td>2014-07-01</td>\n",
       "      <td>FEMALE</td>\n",
       "      <td>35</td>\n",
       "      <td>facebook</td>\n",
       "      <td>0</td>\n",
       "      <td>en</td>\n",
       "      <td>direct</td>\n",
       "      <td>direct</td>\n",
       "      <td>untracked</td>\n",
       "      <td>Moweb</td>\n",
       "      <td>iPhone</td>\n",
       "      <td>Mobile_Safari</td>\n",
       "    </tr>\n",
       "  </tbody>\n",
       "</table>\n",
       "</div>"
      ],
      "text/plain": [
       "      user_id date_account_created timestamp_first_active  gender  age  \\\n",
       "0  5uwns89zht           2014-07-01             2014-07-01  FEMALE   35   \n",
       "\n",
       "  signup_method  signup_flow language affiliate_channel affiliate_provider  \\\n",
       "0      facebook            0       en            direct             direct   \n",
       "\n",
       "  first_affiliate_tracked signup_app first_device_type  first_browser  \n",
       "0               untracked      Moweb            iPhone  Mobile_Safari  "
      ]
     },
     "execution_count": 58,
     "metadata": {},
     "output_type": "execute_result"
    }
   ],
   "source": [
    "data.head(1)"
   ]
  },
  {
   "cell_type": "markdown",
   "metadata": {},
   "source": [
    "## Dataset Test_user Final"
   ]
  },
  {
   "cell_type": "code",
   "execution_count": 59,
   "metadata": {},
   "outputs": [
    {
     "name": "stdout",
     "output_type": "stream",
     "text": [
      "Number of Rows: 61662\n",
      "Number of Columns: 18\n"
     ]
    }
   ],
   "source": [
    "#Juntando dataset session com o dataset treino.\n",
    "\n",
    "new_test = data.set_index('user_id').join(new_session.set_index('user_id'), how='inner', on='user_id').reset_index()\n",
    "new_test.head(1)\n",
    "\n",
    "#Data Dimensions\n",
    "\n",
    "print('Number of Rows: {}'.format(new_test.shape[0]))\n",
    "print('Number of Columns: {}'.format(new_test.shape[1]))"
   ]
  },
  {
   "cell_type": "code",
   "execution_count": 60,
   "metadata": {},
   "outputs": [
    {
     "data": {
      "image/png": "[encoded data removed]",
      "text/plain": [
       "<Figure size 1800x720 with 3 Axes>"
      ]
     },
     "metadata": {
      "needs_background": "light"
     },
     "output_type": "display_data"
    }
   ],
   "source": [
    "miss.bar(new_test)\n",
    "sns.despine()"
   ]
  },
  {
   "cell_type": "code",
   "execution_count": 61,
   "metadata": {},
   "outputs": [
    {
     "data": {
      "text/plain": [
       "user_id                            object\n",
       "date_account_created       datetime64[ns]\n",
       "timestamp_first_active     datetime64[ns]\n",
       "gender                             object\n",
       "age                                 int64\n",
       "signup_method                      object\n",
       "signup_flow                         int64\n",
       "language                           object\n",
       "affiliate_channel                  object\n",
       "affiliate_provider                 object\n",
       "first_affiliate_tracked            object\n",
       "signup_app                         object\n",
       "first_device_type                  object\n",
       "first_browser                      object\n",
       "action                             object\n",
       "action_type                        object\n",
       "action_detail                      object\n",
       "secs_elapsed                      float64\n",
       "dtype: object"
      ]
     },
     "execution_count": 61,
     "metadata": {},
     "output_type": "execute_result"
    }
   ],
   "source": [
    "new_test.dtypes"
   ]
  },
  {
   "cell_type": "code",
   "execution_count": 62,
   "metadata": {},
   "outputs": [],
   "source": []
  },
  {
   "cell_type": "code",
   "execution_count": 63,
   "metadata": {},
   "outputs": [],
   "source": [
    "#Juntei o test com train para seguir com as analises e tratamento das colunas e no final faço a separação novamente.\n",
    "df_final = pd.concat([new_train, new_test])"
   ]
  },
  {
   "cell_type": "code",
   "execution_count": 64,
   "metadata": {},
   "outputs": [
    {
     "name": "stdout",
     "output_type": "stream",
     "text": [
      "Number of Rows test: 61662\n",
      "Number of Columns test: 18\n",
      "--------------------------------------------------\n",
      "Number of Rows train: 73513\n",
      "Number of Columns train: 20\n",
      "------------------------------------------\n",
      "Number of Rows Join: 135175\n",
      "Number of Columns Join: 20\n"
     ]
    }
   ],
   "source": [
    "print('Number of Rows test: {}'.format(new_test.shape[0]))\n",
    "print('Number of Columns test: {}'.format(new_test.shape[1]))\n",
    "print('--------------------------------------------------')\n",
    "print('Number of Rows train: {}'.format(new_train.shape[0]))\n",
    "print('Number of Columns train: {}'.format(new_train.shape[1]))\n",
    "print('------------------------------------------')\n",
    "print('Number of Rows Join: {}'.format(df_final.shape[0]))\n",
    "print('Number of Columns Join: {}'.format(df_final.shape[1]))"
   ]
  },
  {
   "cell_type": "markdown",
   "metadata": {},
   "source": [
    "# 2.0 Descriptive Statistics"
   ]
  },
  {
   "cell_type": "code",
   "execution_count": 65,
   "metadata": {},
   "outputs": [],
   "source": [
    "num_atributes = df_final.select_dtypes(include=['int64', 'float64'])\n",
    "cat_atributes = df_final.select_dtypes(exclude=['int64', 'float64', 'datetime64[ns]'])"
   ]
  },
  {
   "cell_type": "markdown",
   "metadata": {},
   "source": [
    "## 2.1 Numerical Atributes"
   ]
  },
  {
   "cell_type": "code",
   "execution_count": 66,
   "metadata": {},
   "outputs": [
    {
     "data": {
      "text/html": [
       "<div>\n",
       "<style scoped>\n",
       "    .dataframe tbody tr th:only-of-type {\n",
       "        vertical-align: middle;\n",
       "    }\n",
       "\n",
       "    .dataframe tbody tr th {\n",
       "        vertical-align: top;\n",
       "    }\n",
       "\n",
       "    .dataframe thead th {\n",
       "        text-align: right;\n",
       "    }\n",
       "</style>\n",
       "<table border=\"1\" class=\"dataframe\">\n",
       "  <thead>\n",
       "    <tr style=\"text-align: right;\">\n",
       "      <th></th>\n",
       "      <th>attributes</th>\n",
       "      <th>min</th>\n",
       "      <th>max</th>\n",
       "      <th>range</th>\n",
       "      <th>mean</th>\n",
       "      <th>median</th>\n",
       "      <th>std</th>\n",
       "      <th>skew</th>\n",
       "      <th>kurtosis</th>\n",
       "    </tr>\n",
       "  </thead>\n",
       "  <tbody>\n",
       "    <tr>\n",
       "      <th>0</th>\n",
       "      <td>age</td>\n",
       "      <td>16.0</td>\n",
       "      <td>115.000000</td>\n",
       "      <td>99.000000</td>\n",
       "      <td>34.878054</td>\n",
       "      <td>34.000000</td>\n",
       "      <td>10.253592</td>\n",
       "      <td>3.122752</td>\n",
       "      <td>15.961071</td>\n",
       "    </tr>\n",
       "    <tr>\n",
       "      <th>1</th>\n",
       "      <td>signup_flow</td>\n",
       "      <td>0.0</td>\n",
       "      <td>25.000000</td>\n",
       "      <td>25.000000</td>\n",
       "      <td>6.165800</td>\n",
       "      <td>0.000000</td>\n",
       "      <td>10.345016</td>\n",
       "      <td>1.153908</td>\n",
       "      <td>-0.580007</td>\n",
       "    </tr>\n",
       "    <tr>\n",
       "      <th>2</th>\n",
       "      <td>secs_elapsed</td>\n",
       "      <td>0.0</td>\n",
       "      <td>931358.666667</td>\n",
       "      <td>931358.666667</td>\n",
       "      <td>25906.128115</td>\n",
       "      <td>16050.100159</td>\n",
       "      <td>37538.002450</td>\n",
       "      <td>6.886404</td>\n",
       "      <td>83.004419</td>\n",
       "    </tr>\n",
       "  </tbody>\n",
       "</table>\n",
       "</div>"
      ],
      "text/plain": [
       "     attributes   min            max          range          mean  \\\n",
       "0           age  16.0     115.000000      99.000000     34.878054   \n",
       "1   signup_flow   0.0      25.000000      25.000000      6.165800   \n",
       "2  secs_elapsed   0.0  931358.666667  931358.666667  25906.128115   \n",
       "\n",
       "         median           std      skew   kurtosis  \n",
       "0     34.000000     10.253592  3.122752  15.961071  \n",
       "1      0.000000     10.345016  1.153908  -0.580007  \n",
       "2  16050.100159  37538.002450  6.886404  83.004419  "
      ]
     },
     "execution_count": 66,
     "metadata": {},
     "output_type": "execute_result"
    }
   ],
   "source": [
    "drescriptive_statistical(num_atributes)"
   ]
  },
  {
   "cell_type": "markdown",
   "metadata": {},
   "source": [
    "-- Anomalias detectado\n",
    "\n",
    "--> signup_flow com registro zerado\n",
    "\n",
    "--> secs_elapsed tambem com registro zerado"
   ]
  },
  {
   "cell_type": "markdown",
   "metadata": {},
   "source": [
    "## 2.2 Cat Atributes"
   ]
  },
  {
   "cell_type": "code",
   "execution_count": 67,
   "metadata": {},
   "outputs": [
    {
     "data": {
      "text/html": [
       "<div>\n",
       "<style scoped>\n",
       "    .dataframe tbody tr th:only-of-type {\n",
       "        vertical-align: middle;\n",
       "    }\n",
       "\n",
       "    .dataframe tbody tr th {\n",
       "        vertical-align: top;\n",
       "    }\n",
       "\n",
       "    .dataframe thead th {\n",
       "        text-align: right;\n",
       "    }\n",
       "</style>\n",
       "<table border=\"1\" class=\"dataframe\">\n",
       "  <thead>\n",
       "    <tr style=\"text-align: right;\">\n",
       "      <th></th>\n",
       "      <th>count</th>\n",
       "      <th>unique</th>\n",
       "      <th>top</th>\n",
       "      <th>freq</th>\n",
       "    </tr>\n",
       "  </thead>\n",
       "  <tbody>\n",
       "    <tr>\n",
       "      <th>user_id</th>\n",
       "      <td>135175</td>\n",
       "      <td>135175</td>\n",
       "      <td>d1mm9tcy42</td>\n",
       "      <td>1</td>\n",
       "    </tr>\n",
       "    <tr>\n",
       "      <th>gender</th>\n",
       "      <td>135175</td>\n",
       "      <td>4</td>\n",
       "      <td>unknown</td>\n",
       "      <td>71112</td>\n",
       "    </tr>\n",
       "    <tr>\n",
       "      <th>signup_method</th>\n",
       "      <td>135175</td>\n",
       "      <td>4</td>\n",
       "      <td>basic</td>\n",
       "      <td>99939</td>\n",
       "    </tr>\n",
       "    <tr>\n",
       "      <th>language</th>\n",
       "      <td>135175</td>\n",
       "      <td>25</td>\n",
       "      <td>en</td>\n",
       "      <td>129627</td>\n",
       "    </tr>\n",
       "    <tr>\n",
       "      <th>affiliate_channel</th>\n",
       "      <td>135175</td>\n",
       "      <td>8</td>\n",
       "      <td>direct</td>\n",
       "      <td>90147</td>\n",
       "    </tr>\n",
       "    <tr>\n",
       "      <th>affiliate_provider</th>\n",
       "      <td>135175</td>\n",
       "      <td>17</td>\n",
       "      <td>direct</td>\n",
       "      <td>90147</td>\n",
       "    </tr>\n",
       "    <tr>\n",
       "      <th>first_affiliate_tracked</th>\n",
       "      <td>135175</td>\n",
       "      <td>7</td>\n",
       "      <td>untracked</td>\n",
       "      <td>72751</td>\n",
       "    </tr>\n",
       "    <tr>\n",
       "      <th>signup_app</th>\n",
       "      <td>135175</td>\n",
       "      <td>4</td>\n",
       "      <td>Web</td>\n",
       "      <td>93970</td>\n",
       "    </tr>\n",
       "    <tr>\n",
       "      <th>first_device_type</th>\n",
       "      <td>135175</td>\n",
       "      <td>9</td>\n",
       "      <td>Mac_Desktop</td>\n",
       "      <td>44669</td>\n",
       "    </tr>\n",
       "    <tr>\n",
       "      <th>first_browser</th>\n",
       "      <td>135175</td>\n",
       "      <td>40</td>\n",
       "      <td>Chrome</td>\n",
       "      <td>37392</td>\n",
       "    </tr>\n",
       "    <tr>\n",
       "      <th>country_destination</th>\n",
       "      <td>73513</td>\n",
       "      <td>12</td>\n",
       "      <td>NDF</td>\n",
       "      <td>44744</td>\n",
       "    </tr>\n",
       "    <tr>\n",
       "      <th>action</th>\n",
       "      <td>135175</td>\n",
       "      <td>126765</td>\n",
       "      <td>create</td>\n",
       "      <td>546</td>\n",
       "    </tr>\n",
       "    <tr>\n",
       "      <th>action_type</th>\n",
       "      <td>135175</td>\n",
       "      <td>124299</td>\n",
       "      <td>-unknown-  -unknown-</td>\n",
       "      <td>947</td>\n",
       "    </tr>\n",
       "    <tr>\n",
       "      <th>action_detail</th>\n",
       "      <td>135175</td>\n",
       "      <td>126435</td>\n",
       "      <td>-unknown-  -unknown-</td>\n",
       "      <td>947</td>\n",
       "    </tr>\n",
       "  </tbody>\n",
       "</table>\n",
       "</div>"
      ],
      "text/plain": [
       "                          count  unique                     top    freq\n",
       "user_id                  135175  135175              d1mm9tcy42       1\n",
       "gender                   135175       4                 unknown   71112\n",
       "signup_method            135175       4                   basic   99939\n",
       "language                 135175      25                      en  129627\n",
       "affiliate_channel        135175       8                  direct   90147\n",
       "affiliate_provider       135175      17                  direct   90147\n",
       "first_affiliate_tracked  135175       7               untracked   72751\n",
       "signup_app               135175       4                     Web   93970\n",
       "first_device_type        135175       9             Mac_Desktop   44669\n",
       "first_browser            135175      40                  Chrome   37392\n",
       "country_destination       73513      12                     NDF   44744\n",
       "action                   135175  126765                 create      546\n",
       "action_type              135175  124299   -unknown-  -unknown-      947\n",
       "action_detail            135175  126435   -unknown-  -unknown-      947"
      ]
     },
     "execution_count": 67,
     "metadata": {},
     "output_type": "execute_result"
    }
   ],
   "source": [
    "cat_atributes.describe().T"
   ]
  },
  {
   "cell_type": "markdown",
   "metadata": {},
   "source": [
    "# 3.0 Feature Engineering"
   ]
  },
  {
   "cell_type": "markdown",
   "metadata": {},
   "source": [
    "## Criação das Hipóteses"
   ]
  },
  {
   "cell_type": "markdown",
   "metadata": {},
   "source": [
    "H01. Em todos os destinos, os usuarios levam 15 dias, em média, para fazer a primeira reserva no Airbnb, desde sua primeira ativação\n",
    "\n",
    "H02. Em todos os destino, os usuarios levam 3 dias, em media, para fazer o cadastro no site.\n",
    "\n",
    "H03. O volume de reserva anual feitas durante o verão aumentaram 20% para destinos dentro dos USA.\n",
    "\n",
    "H04. Usuarios do sexo Feminino fazem 10% mais reservas para paises fora do EUA.\n",
    "\n",
    "H05. O canal de marketing google representa 40% das reservas para paises fora dos EUA\n",
    "\n",
    "H06. O Destino dos USA representam mais de 20% em todos os canais\n",
    "\n",
    "H07. A idade media das pessoas é de 35 anos em todos os destinos.\n",
    "\n",
    "H08. A porcentagem de usuarios que usam o site n linhgua ingles-americanos para reservar acomodações em qualquer destino é maior que 90%.\n",
    "\n",
    "H09. O Número de reserva do Airbnb é crescente ou decrescente ao longo dos anos\n",
    "\n",
    "H10. O numero de reservas do Airbnb é crescente ao longo dos anos."
   ]
  },
  {
   "cell_type": "markdown",
   "metadata": {},
   "source": [
    "## Derivação de Novas Features"
   ]
  },
  {
   "cell_type": "code",
   "execution_count": 68,
   "metadata": {},
   "outputs": [
    {
     "data": {
      "text/html": [
       "<div>\n",
       "<style scoped>\n",
       "    .dataframe tbody tr th:only-of-type {\n",
       "        vertical-align: middle;\n",
       "    }\n",
       "\n",
       "    .dataframe tbody tr th {\n",
       "        vertical-align: top;\n",
       "    }\n",
       "\n",
       "    .dataframe thead th {\n",
       "        text-align: right;\n",
       "    }\n",
       "</style>\n",
       "<table border=\"1\" class=\"dataframe\">\n",
       "  <thead>\n",
       "    <tr style=\"text-align: right;\">\n",
       "      <th></th>\n",
       "      <th>0</th>\n",
       "    </tr>\n",
       "  </thead>\n",
       "  <tbody>\n",
       "    <tr>\n",
       "      <th>user_id</th>\n",
       "      <td>d1mm9tcy42</td>\n",
       "    </tr>\n",
       "    <tr>\n",
       "      <th>date_account_created</th>\n",
       "      <td>2014-01-01 00:00:00</td>\n",
       "    </tr>\n",
       "    <tr>\n",
       "      <th>timestamp_first_active</th>\n",
       "      <td>2014-01-01 00:00:00</td>\n",
       "    </tr>\n",
       "    <tr>\n",
       "      <th>date_first_booking</th>\n",
       "      <td>2014-01-04 00:00:00</td>\n",
       "    </tr>\n",
       "    <tr>\n",
       "      <th>gender</th>\n",
       "      <td>MALE</td>\n",
       "    </tr>\n",
       "    <tr>\n",
       "      <th>age</th>\n",
       "      <td>62</td>\n",
       "    </tr>\n",
       "    <tr>\n",
       "      <th>signup_method</th>\n",
       "      <td>basic</td>\n",
       "    </tr>\n",
       "    <tr>\n",
       "      <th>signup_flow</th>\n",
       "      <td>0</td>\n",
       "    </tr>\n",
       "    <tr>\n",
       "      <th>language</th>\n",
       "      <td>en</td>\n",
       "    </tr>\n",
       "    <tr>\n",
       "      <th>affiliate_channel</th>\n",
       "      <td>sem_non_brand</td>\n",
       "    </tr>\n",
       "    <tr>\n",
       "      <th>affiliate_provider</th>\n",
       "      <td>google</td>\n",
       "    </tr>\n",
       "    <tr>\n",
       "      <th>first_affiliate_tracked</th>\n",
       "      <td>omg</td>\n",
       "    </tr>\n",
       "    <tr>\n",
       "      <th>signup_app</th>\n",
       "      <td>Web</td>\n",
       "    </tr>\n",
       "    <tr>\n",
       "      <th>first_device_type</th>\n",
       "      <td>Windows_Desktop</td>\n",
       "    </tr>\n",
       "    <tr>\n",
       "      <th>first_browser</th>\n",
       "      <td>Chrome</td>\n",
       "    </tr>\n",
       "    <tr>\n",
       "      <th>country_destination</th>\n",
       "      <td>other</td>\n",
       "    </tr>\n",
       "    <tr>\n",
       "      <th>action</th>\n",
       "      <td>update  update  collections  show  reviews  s...</td>\n",
       "    </tr>\n",
       "    <tr>\n",
       "      <th>action_type</th>\n",
       "      <td>submit  submit  view  view  data  view  view ...</td>\n",
       "    </tr>\n",
       "    <tr>\n",
       "      <th>action_detail</th>\n",
       "      <td>update_listing  update_listing  user_wishlist...</td>\n",
       "    </tr>\n",
       "    <tr>\n",
       "      <th>secs_elapsed</th>\n",
       "      <td>53304.685714</td>\n",
       "    </tr>\n",
       "  </tbody>\n",
       "</table>\n",
       "</div>"
      ],
      "text/plain": [
       "                                                                         0\n",
       "user_id                                                         d1mm9tcy42\n",
       "date_account_created                                   2014-01-01 00:00:00\n",
       "timestamp_first_active                                 2014-01-01 00:00:00\n",
       "date_first_booking                                     2014-01-04 00:00:00\n",
       "gender                                                                MALE\n",
       "age                                                                     62\n",
       "signup_method                                                        basic\n",
       "signup_flow                                                              0\n",
       "language                                                                en\n",
       "affiliate_channel                                            sem_non_brand\n",
       "affiliate_provider                                                  google\n",
       "first_affiliate_tracked                                                omg\n",
       "signup_app                                                             Web\n",
       "first_device_type                                          Windows_Desktop\n",
       "first_browser                                                       Chrome\n",
       "country_destination                                                  other\n",
       "action                    update  update  collections  show  reviews  s...\n",
       "action_type               submit  submit  view  view  data  view  view ...\n",
       "action_detail             update_listing  update_listing  user_wishlist...\n",
       "secs_elapsed                                                  53304.685714"
      ]
     },
     "execution_count": 68,
     "metadata": {},
     "output_type": "execute_result"
    }
   ],
   "source": [
    "df_final.head(1).T"
   ]
  },
  {
   "cell_type": "code",
   "execution_count": 69,
   "metadata": {},
   "outputs": [],
   "source": [
    "#Days from first active up to first booking\n",
    "df_final['date_first_booking_days'] = (df_final.date_first_booking - df_final.timestamp_first_active).apply(lambda x: x.days)\n",
    "df_final['date_first_booking_days'] = (df_final.date_first_booking_days).apply(lambda x: 0 if x < 0 else x)\n",
    "\n",
    "#Days From first active up to account created\n",
    "df_final['date_account_created_days'] = (df_final.timestamp_first_active - df_final.date_account_created).apply(lambda x: x.days)\n",
    "df_final['date_account_created_days'] = (df_final.date_account_created_days).apply(lambda x: 0 if x < 0 else x)\n",
    "\n",
    "#Days from acount created up to first booking\n",
    "df_final['date_account_created_util_booking_days'] = (df_final.date_first_booking - df_final.date_account_created).apply(lambda x: x.days)\n",
    "df_final['date_account_created_util_booking_days'] = (df_final.date_account_created_util_booking_days).apply(lambda x: 0 if x < 0 else x)\n",
    "\n",
    "#year\n",
    "df_final['date_account_created_year']   = df_final.date_account_created.dt.year\n",
    "df_final['timestamp_first_active_year'] = df_final.timestamp_first_active.dt.year\n",
    "df_final['date_first_booking_year']     = df_final.date_first_booking.dt.year\n",
    "\n",
    "#month\n",
    "df_final['date_account_created_month']   = df_final.date_account_created.dt.month\n",
    "df_final['timestamp_first_active_month'] = df_final.timestamp_first_active.dt.month\n",
    "df_final['date_first_booking_month']     = df_final.date_first_booking.dt.month\n",
    "\n",
    "#Week\n",
    "df_final['date_account_created_week']    = df_final.date_account_created.dt.weekday\n",
    "df_final['timestamp_first_active_week']  = df_final.timestamp_first_active.dt.weekday\n",
    "df_final['date_first_booking_week']      = df_final.date_first_booking.dt.weekday\n",
    "\n",
    "#days\n",
    "df_final['date_account_created_day']     = df_final.date_account_created.dt.day\n",
    "df_final['timestamp_first_active_day']   = df_final.timestamp_first_active.dt.day\n",
    "df_final['date_first_booking_year_day']  = df_final.date_first_booking.dt.day"
   ]
  },
  {
   "cell_type": "code",
   "execution_count": 70,
   "metadata": {},
   "outputs": [
    {
     "data": {
      "text/html": [
       "<div>\n",
       "<style scoped>\n",
       "    .dataframe tbody tr th:only-of-type {\n",
       "        vertical-align: middle;\n",
       "    }\n",
       "\n",
       "    .dataframe tbody tr th {\n",
       "        vertical-align: top;\n",
       "    }\n",
       "\n",
       "    .dataframe thead th {\n",
       "        text-align: right;\n",
       "    }\n",
       "</style>\n",
       "<table border=\"1\" class=\"dataframe\">\n",
       "  <thead>\n",
       "    <tr style=\"text-align: right;\">\n",
       "      <th></th>\n",
       "      <th>0</th>\n",
       "    </tr>\n",
       "  </thead>\n",
       "  <tbody>\n",
       "    <tr>\n",
       "      <th>user_id</th>\n",
       "      <td>d1mm9tcy42</td>\n",
       "    </tr>\n",
       "    <tr>\n",
       "      <th>date_account_created</th>\n",
       "      <td>2014-01-01 00:00:00</td>\n",
       "    </tr>\n",
       "    <tr>\n",
       "      <th>timestamp_first_active</th>\n",
       "      <td>2014-01-01 00:00:00</td>\n",
       "    </tr>\n",
       "    <tr>\n",
       "      <th>date_first_booking</th>\n",
       "      <td>2014-01-04 00:00:00</td>\n",
       "    </tr>\n",
       "    <tr>\n",
       "      <th>gender</th>\n",
       "      <td>MALE</td>\n",
       "    </tr>\n",
       "    <tr>\n",
       "      <th>age</th>\n",
       "      <td>62</td>\n",
       "    </tr>\n",
       "    <tr>\n",
       "      <th>signup_method</th>\n",
       "      <td>basic</td>\n",
       "    </tr>\n",
       "    <tr>\n",
       "      <th>signup_flow</th>\n",
       "      <td>0</td>\n",
       "    </tr>\n",
       "    <tr>\n",
       "      <th>language</th>\n",
       "      <td>en</td>\n",
       "    </tr>\n",
       "    <tr>\n",
       "      <th>affiliate_channel</th>\n",
       "      <td>sem_non_brand</td>\n",
       "    </tr>\n",
       "    <tr>\n",
       "      <th>affiliate_provider</th>\n",
       "      <td>google</td>\n",
       "    </tr>\n",
       "    <tr>\n",
       "      <th>first_affiliate_tracked</th>\n",
       "      <td>omg</td>\n",
       "    </tr>\n",
       "    <tr>\n",
       "      <th>signup_app</th>\n",
       "      <td>Web</td>\n",
       "    </tr>\n",
       "    <tr>\n",
       "      <th>first_device_type</th>\n",
       "      <td>Windows_Desktop</td>\n",
       "    </tr>\n",
       "    <tr>\n",
       "      <th>first_browser</th>\n",
       "      <td>Chrome</td>\n",
       "    </tr>\n",
       "    <tr>\n",
       "      <th>country_destination</th>\n",
       "      <td>other</td>\n",
       "    </tr>\n",
       "    <tr>\n",
       "      <th>action</th>\n",
       "      <td>update  update  collections  show  reviews  s...</td>\n",
       "    </tr>\n",
       "    <tr>\n",
       "      <th>action_type</th>\n",
       "      <td>submit  submit  view  view  data  view  view ...</td>\n",
       "    </tr>\n",
       "    <tr>\n",
       "      <th>action_detail</th>\n",
       "      <td>update_listing  update_listing  user_wishlist...</td>\n",
       "    </tr>\n",
       "    <tr>\n",
       "      <th>secs_elapsed</th>\n",
       "      <td>53304.685714</td>\n",
       "    </tr>\n",
       "    <tr>\n",
       "      <th>date_first_booking_days</th>\n",
       "      <td>3.0</td>\n",
       "    </tr>\n",
       "    <tr>\n",
       "      <th>date_account_created_days</th>\n",
       "      <td>0</td>\n",
       "    </tr>\n",
       "    <tr>\n",
       "      <th>date_account_created_util_booking_days</th>\n",
       "      <td>3.0</td>\n",
       "    </tr>\n",
       "    <tr>\n",
       "      <th>date_account_created_year</th>\n",
       "      <td>2014</td>\n",
       "    </tr>\n",
       "    <tr>\n",
       "      <th>timestamp_first_active_year</th>\n",
       "      <td>2014</td>\n",
       "    </tr>\n",
       "    <tr>\n",
       "      <th>date_first_booking_year</th>\n",
       "      <td>2014.0</td>\n",
       "    </tr>\n",
       "    <tr>\n",
       "      <th>date_account_created_month</th>\n",
       "      <td>1</td>\n",
       "    </tr>\n",
       "    <tr>\n",
       "      <th>timestamp_first_active_month</th>\n",
       "      <td>1</td>\n",
       "    </tr>\n",
       "    <tr>\n",
       "      <th>date_first_booking_month</th>\n",
       "      <td>1.0</td>\n",
       "    </tr>\n",
       "    <tr>\n",
       "      <th>date_account_created_week</th>\n",
       "      <td>2</td>\n",
       "    </tr>\n",
       "    <tr>\n",
       "      <th>timestamp_first_active_week</th>\n",
       "      <td>2</td>\n",
       "    </tr>\n",
       "    <tr>\n",
       "      <th>date_first_booking_week</th>\n",
       "      <td>5.0</td>\n",
       "    </tr>\n",
       "    <tr>\n",
       "      <th>date_account_created_day</th>\n",
       "      <td>1</td>\n",
       "    </tr>\n",
       "    <tr>\n",
       "      <th>timestamp_first_active_day</th>\n",
       "      <td>1</td>\n",
       "    </tr>\n",
       "    <tr>\n",
       "      <th>date_first_booking_year_day</th>\n",
       "      <td>4.0</td>\n",
       "    </tr>\n",
       "  </tbody>\n",
       "</table>\n",
       "</div>"
      ],
      "text/plain": [
       "                                                                                        0\n",
       "user_id                                                                        d1mm9tcy42\n",
       "date_account_created                                                  2014-01-01 00:00:00\n",
       "timestamp_first_active                                                2014-01-01 00:00:00\n",
       "date_first_booking                                                    2014-01-04 00:00:00\n",
       "gender                                                                               MALE\n",
       "age                                                                                    62\n",
       "signup_method                                                                       basic\n",
       "signup_flow                                                                             0\n",
       "language                                                                               en\n",
       "affiliate_channel                                                           sem_non_brand\n",
       "affiliate_provider                                                                 google\n",
       "first_affiliate_tracked                                                               omg\n",
       "signup_app                                                                            Web\n",
       "first_device_type                                                         Windows_Desktop\n",
       "first_browser                                                                      Chrome\n",
       "country_destination                                                                 other\n",
       "action                                   update  update  collections  show  reviews  s...\n",
       "action_type                              submit  submit  view  view  data  view  view ...\n",
       "action_detail                            update_listing  update_listing  user_wishlist...\n",
       "secs_elapsed                                                                 53304.685714\n",
       "date_first_booking_days                                                               3.0\n",
       "date_account_created_days                                                               0\n",
       "date_account_created_util_booking_days                                                3.0\n",
       "date_account_created_year                                                            2014\n",
       "timestamp_first_active_year                                                          2014\n",
       "date_first_booking_year                                                            2014.0\n",
       "date_account_created_month                                                              1\n",
       "timestamp_first_active_month                                                            1\n",
       "date_first_booking_month                                                              1.0\n",
       "date_account_created_week                                                               2\n",
       "timestamp_first_active_week                                                             2\n",
       "date_first_booking_week                                                               5.0\n",
       "date_account_created_day                                                                1\n",
       "timestamp_first_active_day                                                              1\n",
       "date_first_booking_year_day                                                           4.0"
      ]
     },
     "execution_count": 70,
     "metadata": {},
     "output_type": "execute_result"
    }
   ],
   "source": [
    "df_final.head(1).T"
   ]
  },
  {
   "cell_type": "markdown",
   "metadata": {},
   "source": [
    "# 4.0 Data Filter"
   ]
  },
  {
   "cell_type": "markdown",
   "metadata": {},
   "source": [
    "## 4.1 Filtering Rows"
   ]
  },
  {
   "cell_type": "code",
   "execution_count": 71,
   "metadata": {},
   "outputs": [
    {
     "data": {
      "text/html": [
       "<div>\n",
       "<style scoped>\n",
       "    .dataframe tbody tr th:only-of-type {\n",
       "        vertical-align: middle;\n",
       "    }\n",
       "\n",
       "    .dataframe tbody tr th {\n",
       "        vertical-align: top;\n",
       "    }\n",
       "\n",
       "    .dataframe thead th {\n",
       "        text-align: right;\n",
       "    }\n",
       "</style>\n",
       "<table border=\"1\" class=\"dataframe\">\n",
       "  <thead>\n",
       "    <tr style=\"text-align: right;\">\n",
       "      <th></th>\n",
       "      <th>user_id</th>\n",
       "      <th>date_account_created</th>\n",
       "      <th>timestamp_first_active</th>\n",
       "      <th>date_first_booking</th>\n",
       "      <th>gender</th>\n",
       "      <th>age</th>\n",
       "      <th>signup_method</th>\n",
       "      <th>signup_flow</th>\n",
       "      <th>language</th>\n",
       "      <th>affiliate_channel</th>\n",
       "      <th>...</th>\n",
       "      <th>date_first_booking_year</th>\n",
       "      <th>date_account_created_month</th>\n",
       "      <th>timestamp_first_active_month</th>\n",
       "      <th>date_first_booking_month</th>\n",
       "      <th>date_account_created_week</th>\n",
       "      <th>timestamp_first_active_week</th>\n",
       "      <th>date_first_booking_week</th>\n",
       "      <th>date_account_created_day</th>\n",
       "      <th>timestamp_first_active_day</th>\n",
       "      <th>date_first_booking_year_day</th>\n",
       "    </tr>\n",
       "  </thead>\n",
       "  <tbody>\n",
       "    <tr>\n",
       "      <th>0</th>\n",
       "      <td>d1mm9tcy42</td>\n",
       "      <td>2014-01-01</td>\n",
       "      <td>2014-01-01</td>\n",
       "      <td>2014-01-04</td>\n",
       "      <td>MALE</td>\n",
       "      <td>62</td>\n",
       "      <td>basic</td>\n",
       "      <td>0</td>\n",
       "      <td>en</td>\n",
       "      <td>sem_non_brand</td>\n",
       "      <td>...</td>\n",
       "      <td>2014.0</td>\n",
       "      <td>1</td>\n",
       "      <td>1</td>\n",
       "      <td>1.0</td>\n",
       "      <td>2</td>\n",
       "      <td>2</td>\n",
       "      <td>5.0</td>\n",
       "      <td>1</td>\n",
       "      <td>1</td>\n",
       "      <td>4.0</td>\n",
       "    </tr>\n",
       "    <tr>\n",
       "      <th>1</th>\n",
       "      <td>yo8nz8bqcq</td>\n",
       "      <td>2014-01-01</td>\n",
       "      <td>2014-01-01</td>\n",
       "      <td>2015-06-29</td>\n",
       "      <td>unknown</td>\n",
       "      <td>34</td>\n",
       "      <td>basic</td>\n",
       "      <td>0</td>\n",
       "      <td>en</td>\n",
       "      <td>direct</td>\n",
       "      <td>...</td>\n",
       "      <td>2015.0</td>\n",
       "      <td>1</td>\n",
       "      <td>1</td>\n",
       "      <td>6.0</td>\n",
       "      <td>2</td>\n",
       "      <td>2</td>\n",
       "      <td>0.0</td>\n",
       "      <td>1</td>\n",
       "      <td>1</td>\n",
       "      <td>29.0</td>\n",
       "    </tr>\n",
       "    <tr>\n",
       "      <th>2</th>\n",
       "      <td>4grx6yxeby</td>\n",
       "      <td>2014-01-01</td>\n",
       "      <td>2014-01-01</td>\n",
       "      <td>2015-06-29</td>\n",
       "      <td>unknown</td>\n",
       "      <td>34</td>\n",
       "      <td>basic</td>\n",
       "      <td>0</td>\n",
       "      <td>en</td>\n",
       "      <td>sem_brand</td>\n",
       "      <td>...</td>\n",
       "      <td>2015.0</td>\n",
       "      <td>1</td>\n",
       "      <td>1</td>\n",
       "      <td>6.0</td>\n",
       "      <td>2</td>\n",
       "      <td>2</td>\n",
       "      <td>0.0</td>\n",
       "      <td>1</td>\n",
       "      <td>1</td>\n",
       "      <td>29.0</td>\n",
       "    </tr>\n",
       "    <tr>\n",
       "      <th>3</th>\n",
       "      <td>ncf87guaf0</td>\n",
       "      <td>2014-01-01</td>\n",
       "      <td>2014-01-01</td>\n",
       "      <td>2015-06-29</td>\n",
       "      <td>unknown</td>\n",
       "      <td>34</td>\n",
       "      <td>basic</td>\n",
       "      <td>0</td>\n",
       "      <td>en</td>\n",
       "      <td>direct</td>\n",
       "      <td>...</td>\n",
       "      <td>2015.0</td>\n",
       "      <td>1</td>\n",
       "      <td>1</td>\n",
       "      <td>6.0</td>\n",
       "      <td>2</td>\n",
       "      <td>2</td>\n",
       "      <td>0.0</td>\n",
       "      <td>1</td>\n",
       "      <td>1</td>\n",
       "      <td>29.0</td>\n",
       "    </tr>\n",
       "    <tr>\n",
       "      <th>4</th>\n",
       "      <td>4rvqpxoh3h</td>\n",
       "      <td>2014-01-01</td>\n",
       "      <td>2014-01-01</td>\n",
       "      <td>2014-01-02</td>\n",
       "      <td>unknown</td>\n",
       "      <td>34</td>\n",
       "      <td>basic</td>\n",
       "      <td>25</td>\n",
       "      <td>en</td>\n",
       "      <td>direct</td>\n",
       "      <td>...</td>\n",
       "      <td>2014.0</td>\n",
       "      <td>1</td>\n",
       "      <td>1</td>\n",
       "      <td>1.0</td>\n",
       "      <td>2</td>\n",
       "      <td>2</td>\n",
       "      <td>3.0</td>\n",
       "      <td>1</td>\n",
       "      <td>1</td>\n",
       "      <td>2.0</td>\n",
       "    </tr>\n",
       "  </tbody>\n",
       "</table>\n",
       "<p>5 rows × 35 columns</p>\n",
       "</div>"
      ],
      "text/plain": [
       "      user_id date_account_created timestamp_first_active date_first_booking  \\\n",
       "0  d1mm9tcy42           2014-01-01             2014-01-01         2014-01-04   \n",
       "1  yo8nz8bqcq           2014-01-01             2014-01-01         2015-06-29   \n",
       "2  4grx6yxeby           2014-01-01             2014-01-01         2015-06-29   \n",
       "3  ncf87guaf0           2014-01-01             2014-01-01         2015-06-29   \n",
       "4  4rvqpxoh3h           2014-01-01             2014-01-01         2014-01-02   \n",
       "\n",
       "    gender  age signup_method  signup_flow language affiliate_channel  ...  \\\n",
       "0     MALE   62         basic            0       en     sem_non_brand  ...   \n",
       "1  unknown   34         basic            0       en            direct  ...   \n",
       "2  unknown   34         basic            0       en         sem_brand  ...   \n",
       "3  unknown   34         basic            0       en            direct  ...   \n",
       "4  unknown   34         basic           25       en            direct  ...   \n",
       "\n",
       "  date_first_booking_year date_account_created_month  \\\n",
       "0                  2014.0                          1   \n",
       "1                  2015.0                          1   \n",
       "2                  2015.0                          1   \n",
       "3                  2015.0                          1   \n",
       "4                  2014.0                          1   \n",
       "\n",
       "  timestamp_first_active_month date_first_booking_month  \\\n",
       "0                            1                      1.0   \n",
       "1                            1                      6.0   \n",
       "2                            1                      6.0   \n",
       "3                            1                      6.0   \n",
       "4                            1                      1.0   \n",
       "\n",
       "  date_account_created_week timestamp_first_active_week  \\\n",
       "0                         2                           2   \n",
       "1                         2                           2   \n",
       "2                         2                           2   \n",
       "3                         2                           2   \n",
       "4                         2                           2   \n",
       "\n",
       "  date_first_booking_week date_account_created_day timestamp_first_active_day  \\\n",
       "0                     5.0                        1                          1   \n",
       "1                     0.0                        1                          1   \n",
       "2                     0.0                        1                          1   \n",
       "3                     0.0                        1                          1   \n",
       "4                     3.0                        1                          1   \n",
       "\n",
       "   date_first_booking_year_day  \n",
       "0                          4.0  \n",
       "1                         29.0  \n",
       "2                         29.0  \n",
       "3                         29.0  \n",
       "4                          2.0  \n",
       "\n",
       "[5 rows x 35 columns]"
      ]
     },
     "execution_count": 71,
     "metadata": {},
     "output_type": "execute_result"
    }
   ],
   "source": [
    "df_final = df_final[df_final['secs_elapsed'] > 0]\n",
    "df_final.head()\n"
   ]
  },
  {
   "cell_type": "markdown",
   "metadata": {},
   "source": [
    "## 4.2 Filtering Cols"
   ]
  },
  {
   "cell_type": "code",
   "execution_count": 72,
   "metadata": {},
   "outputs": [],
   "source": [
    "# Excluindo as Datas\n",
    "\n",
    "df_final = df_final.drop([ 'date_account_created', 'timestamp_first_active', 'date_first_booking'], axis=1)"
   ]
  },
  {
   "cell_type": "markdown",
   "metadata": {},
   "source": [
    "## 4.3 Cat Atributes"
   ]
  },
  {
   "cell_type": "code",
   "execution_count": 73,
   "metadata": {},
   "outputs": [
    {
     "data": {
      "text/plain": [
       "<AxesSubplot:>"
      ]
     },
     "execution_count": 73,
     "metadata": {},
     "output_type": "execute_result"
    },
    {
     "data": {
      "image/png": "[encoded data removed]",
      "text/plain": [
       "<Figure size 1080x720 with 2 Axes>"
      ]
     },
     "metadata": {},
     "output_type": "display_data"
    }
   ],
   "source": [
    "cat_atributes = cat_atributes.sample(20000)\n",
    "\n",
    "rows = []\n",
    "\n",
    "for var1 in cat_atributes:\n",
    "    col = []\n",
    "    for var2 in cat_atributes:\n",
    "        cramers = cramer_v(cat_atributes[var1], cat_atributes[var2])\n",
    "        col.append(round(cramers, 2))\n",
    "    rows.append(col)\n",
    "\n",
    "cramers_result = np.array(rows)\n",
    "df = pd.DataFrame(cramers_result, columns=cat_atributes.columns, index=cat_atributes.columns)\n",
    "\n",
    "sns.set(rc= {'figure.figsize': (15, 10)})\n",
    "sns.heatmap(df, annot=True)"
   ]
  },
  {
   "cell_type": "code",
   "execution_count": 79,
   "metadata": {},
   "outputs": [
    {
     "data": {
      "text/html": [
       "<div>\n",
       "<style scoped>\n",
       "    .dataframe tbody tr th:only-of-type {\n",
       "        vertical-align: middle;\n",
       "    }\n",
       "\n",
       "    .dataframe tbody tr th {\n",
       "        vertical-align: top;\n",
       "    }\n",
       "\n",
       "    .dataframe thead th {\n",
       "        text-align: right;\n",
       "    }\n",
       "</style>\n",
       "<table border=\"1\" class=\"dataframe\">\n",
       "  <thead>\n",
       "    <tr style=\"text-align: right;\">\n",
       "      <th></th>\n",
       "      <th>user_id</th>\n",
       "      <th>gender</th>\n",
       "      <th>signup_method</th>\n",
       "      <th>language</th>\n",
       "      <th>affiliate_channel</th>\n",
       "      <th>affiliate_provider</th>\n",
       "      <th>first_affiliate_tracked</th>\n",
       "      <th>signup_app</th>\n",
       "      <th>first_device_type</th>\n",
       "      <th>first_browser</th>\n",
       "      <th>country_destination</th>\n",
       "      <th>action</th>\n",
       "      <th>action_type</th>\n",
       "      <th>action_detail</th>\n",
       "    </tr>\n",
       "  </thead>\n",
       "  <tbody>\n",
       "    <tr>\n",
       "      <th>user_id</th>\n",
       "      <td>inf</td>\n",
       "      <td>inf</td>\n",
       "      <td>inf</td>\n",
       "      <td>inf</td>\n",
       "      <td>inf</td>\n",
       "      <td>inf</td>\n",
       "      <td>inf</td>\n",
       "      <td>inf</td>\n",
       "      <td>inf</td>\n",
       "      <td>inf</td>\n",
       "      <td>inf</td>\n",
       "      <td>inf</td>\n",
       "      <td>inf</td>\n",
       "      <td>inf</td>\n",
       "    </tr>\n",
       "    <tr>\n",
       "      <th>gender</th>\n",
       "      <td>inf</td>\n",
       "      <td>1.00</td>\n",
       "      <td>NaN</td>\n",
       "      <td>NaN</td>\n",
       "      <td>NaN</td>\n",
       "      <td>NaN</td>\n",
       "      <td>NaN</td>\n",
       "      <td>NaN</td>\n",
       "      <td>NaN</td>\n",
       "      <td>NaN</td>\n",
       "      <td>NaN</td>\n",
       "      <td>0.98</td>\n",
       "      <td>0.98</td>\n",
       "      <td>0.98</td>\n",
       "    </tr>\n",
       "    <tr>\n",
       "      <th>signup_method</th>\n",
       "      <td>inf</td>\n",
       "      <td>NaN</td>\n",
       "      <td>1.00</td>\n",
       "      <td>NaN</td>\n",
       "      <td>NaN</td>\n",
       "      <td>NaN</td>\n",
       "      <td>NaN</td>\n",
       "      <td>NaN</td>\n",
       "      <td>NaN</td>\n",
       "      <td>NaN</td>\n",
       "      <td>NaN</td>\n",
       "      <td>0.99</td>\n",
       "      <td>0.98</td>\n",
       "      <td>0.99</td>\n",
       "    </tr>\n",
       "    <tr>\n",
       "      <th>language</th>\n",
       "      <td>inf</td>\n",
       "      <td>NaN</td>\n",
       "      <td>NaN</td>\n",
       "      <td>1.00</td>\n",
       "      <td>NaN</td>\n",
       "      <td>NaN</td>\n",
       "      <td>NaN</td>\n",
       "      <td>NaN</td>\n",
       "      <td>NaN</td>\n",
       "      <td>NaN</td>\n",
       "      <td>NaN</td>\n",
       "      <td>0.98</td>\n",
       "      <td>0.98</td>\n",
       "      <td>0.98</td>\n",
       "    </tr>\n",
       "    <tr>\n",
       "      <th>affiliate_channel</th>\n",
       "      <td>inf</td>\n",
       "      <td>NaN</td>\n",
       "      <td>NaN</td>\n",
       "      <td>NaN</td>\n",
       "      <td>1.00</td>\n",
       "      <td>NaN</td>\n",
       "      <td>NaN</td>\n",
       "      <td>NaN</td>\n",
       "      <td>NaN</td>\n",
       "      <td>NaN</td>\n",
       "      <td>NaN</td>\n",
       "      <td>0.98</td>\n",
       "      <td>0.97</td>\n",
       "      <td>0.98</td>\n",
       "    </tr>\n",
       "    <tr>\n",
       "      <th>affiliate_provider</th>\n",
       "      <td>inf</td>\n",
       "      <td>NaN</td>\n",
       "      <td>NaN</td>\n",
       "      <td>NaN</td>\n",
       "      <td>NaN</td>\n",
       "      <td>1.00</td>\n",
       "      <td>NaN</td>\n",
       "      <td>NaN</td>\n",
       "      <td>NaN</td>\n",
       "      <td>NaN</td>\n",
       "      <td>NaN</td>\n",
       "      <td>0.97</td>\n",
       "      <td>0.97</td>\n",
       "      <td>0.97</td>\n",
       "    </tr>\n",
       "    <tr>\n",
       "      <th>first_affiliate_tracked</th>\n",
       "      <td>inf</td>\n",
       "      <td>NaN</td>\n",
       "      <td>NaN</td>\n",
       "      <td>NaN</td>\n",
       "      <td>NaN</td>\n",
       "      <td>NaN</td>\n",
       "      <td>1.00</td>\n",
       "      <td>NaN</td>\n",
       "      <td>NaN</td>\n",
       "      <td>NaN</td>\n",
       "      <td>NaN</td>\n",
       "      <td>0.98</td>\n",
       "      <td>0.97</td>\n",
       "      <td>0.98</td>\n",
       "    </tr>\n",
       "    <tr>\n",
       "      <th>signup_app</th>\n",
       "      <td>inf</td>\n",
       "      <td>NaN</td>\n",
       "      <td>NaN</td>\n",
       "      <td>NaN</td>\n",
       "      <td>NaN</td>\n",
       "      <td>NaN</td>\n",
       "      <td>NaN</td>\n",
       "      <td>1.00</td>\n",
       "      <td>0.68</td>\n",
       "      <td>NaN</td>\n",
       "      <td>NaN</td>\n",
       "      <td>0.98</td>\n",
       "      <td>0.97</td>\n",
       "      <td>0.98</td>\n",
       "    </tr>\n",
       "    <tr>\n",
       "      <th>first_device_type</th>\n",
       "      <td>inf</td>\n",
       "      <td>NaN</td>\n",
       "      <td>NaN</td>\n",
       "      <td>NaN</td>\n",
       "      <td>NaN</td>\n",
       "      <td>NaN</td>\n",
       "      <td>NaN</td>\n",
       "      <td>0.68</td>\n",
       "      <td>1.00</td>\n",
       "      <td>0.61</td>\n",
       "      <td>NaN</td>\n",
       "      <td>0.98</td>\n",
       "      <td>0.97</td>\n",
       "      <td>0.97</td>\n",
       "    </tr>\n",
       "    <tr>\n",
       "      <th>first_browser</th>\n",
       "      <td>inf</td>\n",
       "      <td>NaN</td>\n",
       "      <td>NaN</td>\n",
       "      <td>NaN</td>\n",
       "      <td>NaN</td>\n",
       "      <td>NaN</td>\n",
       "      <td>NaN</td>\n",
       "      <td>NaN</td>\n",
       "      <td>0.61</td>\n",
       "      <td>1.00</td>\n",
       "      <td>NaN</td>\n",
       "      <td>0.96</td>\n",
       "      <td>0.96</td>\n",
       "      <td>0.96</td>\n",
       "    </tr>\n",
       "    <tr>\n",
       "      <th>country_destination</th>\n",
       "      <td>inf</td>\n",
       "      <td>NaN</td>\n",
       "      <td>NaN</td>\n",
       "      <td>NaN</td>\n",
       "      <td>NaN</td>\n",
       "      <td>NaN</td>\n",
       "      <td>NaN</td>\n",
       "      <td>NaN</td>\n",
       "      <td>NaN</td>\n",
       "      <td>NaN</td>\n",
       "      <td>1.00</td>\n",
       "      <td>0.98</td>\n",
       "      <td>0.97</td>\n",
       "      <td>0.98</td>\n",
       "    </tr>\n",
       "    <tr>\n",
       "      <th>action</th>\n",
       "      <td>inf</td>\n",
       "      <td>0.98</td>\n",
       "      <td>0.99</td>\n",
       "      <td>0.98</td>\n",
       "      <td>0.98</td>\n",
       "      <td>0.97</td>\n",
       "      <td>0.98</td>\n",
       "      <td>0.98</td>\n",
       "      <td>0.98</td>\n",
       "      <td>0.96</td>\n",
       "      <td>0.98</td>\n",
       "      <td>4.60</td>\n",
       "      <td>4.57</td>\n",
       "      <td>4.59</td>\n",
       "    </tr>\n",
       "    <tr>\n",
       "      <th>action_type</th>\n",
       "      <td>inf</td>\n",
       "      <td>0.98</td>\n",
       "      <td>0.98</td>\n",
       "      <td>0.98</td>\n",
       "      <td>0.97</td>\n",
       "      <td>0.97</td>\n",
       "      <td>0.97</td>\n",
       "      <td>0.97</td>\n",
       "      <td>0.97</td>\n",
       "      <td>0.96</td>\n",
       "      <td>0.97</td>\n",
       "      <td>4.57</td>\n",
       "      <td>4.13</td>\n",
       "      <td>4.55</td>\n",
       "    </tr>\n",
       "    <tr>\n",
       "      <th>action_detail</th>\n",
       "      <td>inf</td>\n",
       "      <td>0.98</td>\n",
       "      <td>0.99</td>\n",
       "      <td>0.98</td>\n",
       "      <td>0.98</td>\n",
       "      <td>0.97</td>\n",
       "      <td>0.98</td>\n",
       "      <td>0.98</td>\n",
       "      <td>0.97</td>\n",
       "      <td>0.96</td>\n",
       "      <td>0.98</td>\n",
       "      <td>4.59</td>\n",
       "      <td>4.55</td>\n",
       "      <td>4.58</td>\n",
       "    </tr>\n",
       "  </tbody>\n",
       "</table>\n",
       "</div>"
      ],
      "text/plain": [
       "                         user_id  gender  signup_method  language  \\\n",
       "user_id                      inf     inf            inf       inf   \n",
       "gender                       inf    1.00            NaN       NaN   \n",
       "signup_method                inf     NaN           1.00       NaN   \n",
       "language                     inf     NaN            NaN      1.00   \n",
       "affiliate_channel            inf     NaN            NaN       NaN   \n",
       "affiliate_provider           inf     NaN            NaN       NaN   \n",
       "first_affiliate_tracked      inf     NaN            NaN       NaN   \n",
       "signup_app                   inf     NaN            NaN       NaN   \n",
       "first_device_type            inf     NaN            NaN       NaN   \n",
       "first_browser                inf     NaN            NaN       NaN   \n",
       "country_destination          inf     NaN            NaN       NaN   \n",
       "action                       inf    0.98           0.99      0.98   \n",
       "action_type                  inf    0.98           0.98      0.98   \n",
       "action_detail                inf    0.98           0.99      0.98   \n",
       "\n",
       "                         affiliate_channel  affiliate_provider  \\\n",
       "user_id                                inf                 inf   \n",
       "gender                                 NaN                 NaN   \n",
       "signup_method                          NaN                 NaN   \n",
       "language                               NaN                 NaN   \n",
       "affiliate_channel                     1.00                 NaN   \n",
       "affiliate_provider                     NaN                1.00   \n",
       "first_affiliate_tracked                NaN                 NaN   \n",
       "signup_app                             NaN                 NaN   \n",
       "first_device_type                      NaN                 NaN   \n",
       "first_browser                          NaN                 NaN   \n",
       "country_destination                    NaN                 NaN   \n",
       "action                                0.98                0.97   \n",
       "action_type                           0.97                0.97   \n",
       "action_detail                         0.98                0.97   \n",
       "\n",
       "                         first_affiliate_tracked  signup_app  \\\n",
       "user_id                                      inf         inf   \n",
       "gender                                       NaN         NaN   \n",
       "signup_method                                NaN         NaN   \n",
       "language                                     NaN         NaN   \n",
       "affiliate_channel                            NaN         NaN   \n",
       "affiliate_provider                           NaN         NaN   \n",
       "first_affiliate_tracked                     1.00         NaN   \n",
       "signup_app                                   NaN        1.00   \n",
       "first_device_type                            NaN        0.68   \n",
       "first_browser                                NaN         NaN   \n",
       "country_destination                          NaN         NaN   \n",
       "action                                      0.98        0.98   \n",
       "action_type                                 0.97        0.97   \n",
       "action_detail                               0.98        0.98   \n",
       "\n",
       "                         first_device_type  first_browser  \\\n",
       "user_id                                inf            inf   \n",
       "gender                                 NaN            NaN   \n",
       "signup_method                          NaN            NaN   \n",
       "language                               NaN            NaN   \n",
       "affiliate_channel                      NaN            NaN   \n",
       "affiliate_provider                     NaN            NaN   \n",
       "first_affiliate_tracked                NaN            NaN   \n",
       "signup_app                            0.68            NaN   \n",
       "first_device_type                     1.00           0.61   \n",
       "first_browser                         0.61           1.00   \n",
       "country_destination                    NaN            NaN   \n",
       "action                                0.98           0.96   \n",
       "action_type                           0.97           0.96   \n",
       "action_detail                         0.97           0.96   \n",
       "\n",
       "                         country_destination  action  action_type  \\\n",
       "user_id                                  inf     inf          inf   \n",
       "gender                                   NaN    0.98         0.98   \n",
       "signup_method                            NaN    0.99         0.98   \n",
       "language                                 NaN    0.98         0.98   \n",
       "affiliate_channel                        NaN    0.98         0.97   \n",
       "affiliate_provider                       NaN    0.97         0.97   \n",
       "first_affiliate_tracked                  NaN    0.98         0.97   \n",
       "signup_app                               NaN    0.98         0.97   \n",
       "first_device_type                        NaN    0.98         0.97   \n",
       "first_browser                            NaN    0.96         0.96   \n",
       "country_destination                     1.00    0.98         0.97   \n",
       "action                                  0.98    4.60         4.57   \n",
       "action_type                             0.97    4.57         4.13   \n",
       "action_detail                           0.98    4.59         4.55   \n",
       "\n",
       "                         action_detail  \n",
       "user_id                            inf  \n",
       "gender                            0.98  \n",
       "signup_method                     0.99  \n",
       "language                          0.98  \n",
       "affiliate_channel                 0.98  \n",
       "affiliate_provider                0.97  \n",
       "first_affiliate_tracked           0.98  \n",
       "signup_app                        0.98  \n",
       "first_device_type                 0.97  \n",
       "first_browser                     0.96  \n",
       "country_destination               0.98  \n",
       "action                            4.59  \n",
       "action_type                       4.55  \n",
       "action_detail                     4.58  "
      ]
     },
     "execution_count": 79,
     "metadata": {},
     "output_type": "execute_result"
    }
   ],
   "source": [
    "df[df > 0.6]\n"
   ]
  },
  {
   "cell_type": "code",
   "execution_count": 85,
   "metadata": {},
   "outputs": [],
   "source": [
    "#Correlações\n",
    "#signup_app x first_device_type\n",
    "#first_browser X first_device_type\n",
    "\n",
    "#Aproveitando que essa coluna esta com uma autocorrelação, vou excluir pois tambem ela tem umaaltar dimensionalidade.\n",
    "df_final = df_final.drop('first_browser', axis=1)\n"
   ]
  },
  {
   "cell_type": "code",
   "execution_count": 87,
   "metadata": {},
   "outputs": [],
   "source": [
    "#Separando os Datasets\n",
    "\n",
    "new_test = df_final[df_final['country_destination'].isna()]\n",
    "new_train = df_final[~df_final['country_destination'].isna()]\n",
    "\n",
    "\n",
    "#new_test.to_csv(path_data+ 'final_test.csv', index=False)\n",
    "#new_train.to_csv(path_data+ 'final_train.csv', index=False)"
   ]
  },
  {
   "cell_type": "code",
   "execution_count": 91,
   "metadata": {},
   "outputs": [],
   "source": [
    "colums_drop = ['country_destination', 'date_first_booking_days', 'date_account_created_util_booking_days', 'date_first_booking_year', 'date_account_created_util_booking_days',\n",
    "           'date_first_booking_year', 'date_first_booking_month', 'date_first_booking_week', 'date_first_booking_year_day']\n",
    "\n",
    "new_test = new_test.drop(colums_drop, axis=1)"
   ]
  },
  {
   "cell_type": "code",
   "execution_count": 96,
   "metadata": {},
   "outputs": [
    {
     "name": "stdout",
     "output_type": "stream",
     "text": [
      "Number of Rows test: 60978\n",
      "Number of Columns test: 24\n",
      "--------------------------------------------------\n",
      "Number of Rows train: 72718\n",
      "Number of Columns train: 31\n",
      "------------------------------------------\n",
      "Number of Rows Join: 133696\n",
      "Number of Columns Join: 31\n"
     ]
    }
   ],
   "source": [
    "print('Number of Rows test: {}'.format(new_test.shape[0]))\n",
    "print('Number of Columns test: {}'.format(new_test.shape[1]))\n",
    "print('--------------------------------------------------')\n",
    "print('Number of Rows train: {}'.format(new_train.shape[0]))\n",
    "print('Number of Columns train: {}'.format(new_train.shape[1]))\n",
    "print('------------------------------------------')\n",
    "print('Number of Rows Join: {}'.format(df_final.shape[0]))\n",
    "print('Number of Columns Join: {}'.format(df_final.shape[1]))"
   ]
  },
  {
   "cell_type": "code",
   "execution_count": 97,
   "metadata": {},
   "outputs": [],
   "source": [
    "new_test.to_csv(path_data+ 'final_test.csv', index=False)\n",
    "new_train.to_csv(path_data+ 'final_train.csv', index=False)"
   ]
  }
 ],
 "metadata": {
  "kernelspec": {
   "display_name": "Python 3 (ipykernel)",
   "language": "python",
   "name": "python3"
  },
  "language_info": {
   "codemirror_mode": {
    "name": "ipython",
    "version": 3
   },
   "file_extension": ".py",
   "mimetype": "text/x-python",
   "name": "python",
   "nbconvert_exporter": "python",
   "pygments_lexer": "ipython3",
   "version": "3.9.12"
  },
  "vscode": {
   "interpreter": {
    "hash": "916dbcbb3f70747c44a77c7bcd40155683ae19c65e1c03b4aa3499c5328201f1"
   }
  }
 },
 "nbformat": 4,
 "nbformat_minor": 2
}
